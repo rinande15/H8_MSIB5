{
 "cells": [
  {
   "cell_type": "markdown",
   "id": "00650c13",
   "metadata": {},
   "source": [
    "# SESI 2"
   ]
  },
  {
   "cell_type": "markdown",
   "id": "ff257f36",
   "metadata": {},
   "source": [
    "## CONDITIONAL "
   ]
  },
  {
   "cell_type": "markdown",
   "id": "071836b6",
   "metadata": {},
   "source": [
    "Python mendukung logical conditions yang biasa dipakai dalam matematika:\n",
    "- Equals: a == b\n",
    "- Not equals: a != b\n",
    "- Less than: a < b\n",
    "- Less than or equal to: a <= b\n",
    "- Greater than: a > b\n",
    "- Greater than or equal to: a >= b"
   ]
  },
  {
   "cell_type": "markdown",
   "id": "9b46c995",
   "metadata": {},
   "source": [
    "### Introduction to the if statement"
   ]
  },
  {
   "cell_type": "code",
   "execution_count": null,
   "id": "ffedef3f",
   "metadata": {},
   "outputs": [],
   "source": [
    "if <expr>:\n",
    "    <statement>"
   ]
  },
  {
   "cell_type": "code",
   "execution_count": 3,
   "id": "c403f193",
   "metadata": {},
   "outputs": [
    {
     "name": "stdout",
     "output_type": "stream",
     "text": [
      "b is greater than a\n"
     ]
    }
   ],
   "source": [
    "# examples\n",
    "\n",
    "a = 33\n",
    "b = 200\n",
    "if b > a:\n",
    "  print(\"b is greater than a\") "
   ]
  },
  {
   "cell_type": "markdown",
   "id": "f92440d2",
   "metadata": {},
   "source": [
    "### Grouping statements: indentantion and blocks"
   ]
  },
  {
   "cell_type": "code",
   "execution_count": null,
   "id": "e9569dc0",
   "metadata": {},
   "outputs": [],
   "source": [
    "if <expr>:\n",
    "    <statement>\n",
    "    <statement>\n",
    "    ...\n",
    "    <statement>\n",
    "<following_statement>"
   ]
  },
  {
   "cell_type": "code",
   "execution_count": 6,
   "id": "416ef209",
   "metadata": {},
   "outputs": [
    {
     "name": "stdout",
     "output_type": "stream",
     "text": [
      "true\n",
      "b is greater than a\n"
     ]
    }
   ],
   "source": [
    "# indentantion\n",
    "\n",
    "a = 33\n",
    "b = 200\n",
    "if b > a:\n",
    "    print(\"true\")\n",
    "print(\"b is greater than a\")"
   ]
  },
  {
   "cell_type": "markdown",
   "id": "d46ef270",
   "metadata": {},
   "source": [
    "### The else and elif clauses"
   ]
  },
  {
   "cell_type": "code",
   "execution_count": null,
   "id": "ab85b397",
   "metadata": {},
   "outputs": [],
   "source": [
    "if <expr>:\n",
    "    <statement(s)>\n",
    "else:\n",
    "    <statement(s)>"
   ]
  },
  {
   "cell_type": "code",
   "execution_count": 7,
   "id": "16bb16cb",
   "metadata": {},
   "outputs": [
    {
     "name": "stdout",
     "output_type": "stream",
     "text": [
      "b is not greater than a\n"
     ]
    }
   ],
   "source": [
    "a = 200\n",
    "b = 33\n",
    "if b > a:\n",
    "  print(\"b is greater than a\")\n",
    "else:\n",
    "  print(\"b is not greater than a\") "
   ]
  },
  {
   "cell_type": "markdown",
   "id": "ffbb4524",
   "metadata": {},
   "source": [
    "Dalam contoh di atas a besar dari b, jadi rangkaian pertama (baris 4) dilewati, dan rangkaian kedua (baris 6) dieksekusi"
   ]
  },
  {
   "cell_type": "markdown",
   "id": "42e201eb",
   "metadata": {},
   "source": [
    "Ada juga sintaks untuk eksekusi percabangan berdasarkan beberapa alternatif. Untuk ini, gunakan satu atau lebih klausa elif (kependekan dari else if). Python mengevaluasi setiap <expr> secara bergantian dan menjalankan suite yang sesuai dengan yang pertama benar. JIka tidak ada ekspresi yang benar, dan klausa else ada disana, rangkaiannya akan dieksekusi"
   ]
  },
  {
   "cell_type": "code",
   "execution_count": null,
   "id": "b667cab2",
   "metadata": {},
   "outputs": [],
   "source": [
    "if <expr>:\n",
    "    <statement(s)>\n",
    "elif <expr>:\n",
    "    <statement(s)>\n",
    "elif <expr>:\n",
    "    <statement(s)>\n",
    "    ...\n",
    "else:\n",
    "    <statement(s)>"
   ]
  },
  {
   "cell_type": "markdown",
   "id": "22966ee6",
   "metadata": {},
   "source": [
    "Jumlah klausa elif dapat ditentukan berapapun. Klausa elif bersifat opsional. Jika ada, hanya boleh ada satu, dan harus ditentukan terakhir"
   ]
  },
  {
   "cell_type": "code",
   "execution_count": 9,
   "id": "34d2fbde",
   "metadata": {},
   "outputs": [
    {
     "name": "stdout",
     "output_type": "stream",
     "text": [
      "Saya akan libur\n"
     ]
    }
   ],
   "source": [
    "# examples\n",
    "\n",
    "hari_ini = \"Minggu\"\n",
    "\n",
    "if(hari_ini == \"Senin\"):\n",
    "    print(\"Saya akan kuliah\")\n",
    "elif(hari_ini == \"Selasa\"):\n",
    "    print(\"Saya akan kuliah\")\n",
    "elif(hari_ini == \"Rabu\"):\n",
    "    print(\"Saya akan kuliah\")\n",
    "elif(hari_ini == \"Kamis\"):\n",
    "    print(\"Saya akan kuliah\")\n",
    "elif(hari_ini == \"Jumat\"):\n",
    "    print(\"Saya akan kuliah\")\n",
    "elif(hari_ini == \"Sabtu\"):\n",
    "    print(\"Saya akan kuliah\")\n",
    "elif(hari_ini == \"Minggu\"):\n",
    "    print(\"Saya akan libur\")\n",
    "else:\n",
    "    print(\"Saya tidak kuliah\")"
   ]
  },
  {
   "cell_type": "markdown",
   "id": "331a858b",
   "metadata": {},
   "source": [
    "### Conditional Expressions (Python’s Ternary Operator)"
   ]
  },
  {
   "cell_type": "markdown",
   "id": "22113a9d",
   "metadata": {},
   "source": [
    "In its simplest form, the syntax of the conditional expression is as follows:"
   ]
  },
  {
   "cell_type": "code",
   "execution_count": null,
   "id": "3d8d96d0",
   "metadata": {},
   "outputs": [],
   "source": [
    "<expr1> if <conditional_expr> else <expr2>"
   ]
  },
  {
   "cell_type": "markdown",
   "id": "43747659",
   "metadata": {},
   "source": [
    "Ini berbeda dengan pernyataan if di atas karena ini bukan struktur kontrol yang mengarahkan aliran eksekusi program. Ini bertindak lebih seperti operator yang mendefenisikan ekspresi. Dalam contoh diatas, <conditional_expr> dievaluasi terlebih dahulu. Jika benar, ekspresi mengevaluasi ke <expr1>. Jika salah, ekspresi mengevaluasi ke <expr2>."
   ]
  },
  {
   "cell_type": "code",
   "execution_count": 13,
   "id": "bf189f07",
   "metadata": {},
   "outputs": [
    {
     "name": "stdout",
     "output_type": "stream",
     "text": [
      "Let's go to the office\n"
     ]
    }
   ],
   "source": [
    "work_day = True\n",
    "print(\"Let's go to the\", 'beach' if not work_day else 'office')"
   ]
  },
  {
   "cell_type": "code",
   "execution_count": 14,
   "id": "ecd48799",
   "metadata": {},
   "outputs": [
    {
     "name": "stdout",
     "output_type": "stream",
     "text": [
      "Let's go to the beach\n"
     ]
    }
   ],
   "source": [
    "work_day = False\n",
    "print(\"Let's go to the\", 'beach' if not work_day else 'office')"
   ]
  },
  {
   "cell_type": "markdown",
   "id": "fcd82af1",
   "metadata": {},
   "source": [
    "### The python pass statement"
   ]
  },
  {
   "cell_type": "code",
   "execution_count": 15,
   "id": "cb65bddf",
   "metadata": {},
   "outputs": [
    {
     "name": "stdout",
     "output_type": "stream",
     "text": [
      "foo\n"
     ]
    }
   ],
   "source": [
    "if True:\n",
    "    pass\n",
    "\n",
    "print('foo')"
   ]
  },
  {
   "cell_type": "markdown",
   "id": "c8830107",
   "metadata": {},
   "source": [
    "Iteration artinya mengeksekusi blok kode yang sama berulang kali, berpotensi berkali-kali. Struktur pemrograman yang mengimplementasikan iterasi disebut loop.\n",
    "Dalam pemrograman, ada dua jenis iterasi:\n",
    "- Dengan indefinite iteration yaitu berapa kali loop dijalankan tidak ditentukan secara eksplisit sebelumnya. Sebaliknya blok yang ditunjuk dijalankan berulang kali selama beberapa kondisi terpenuhi.\n",
    "- Dengan define iteration yaitu berapa kali blok yang ditunjuk dan dieksekusi ditentukan secara eksplisit pada saat perulangan dimulai"
   ]
  },
  {
   "cell_type": "markdown",
   "id": "b2050987",
   "metadata": {},
   "source": [
    "## Python \"While\" Loops"
   ]
  },
  {
   "cell_type": "markdown",
   "id": "46872ba3",
   "metadata": {},
   "source": [
    "Format while loop seperti ini"
   ]
  },
  {
   "cell_type": "code",
   "execution_count": null,
   "id": "41cb9c1e",
   "metadata": {},
   "outputs": [],
   "source": [
    "while <expr>:\n",
    "    <statement(s)>"
   ]
  },
  {
   "cell_type": "markdown",
   "id": "78a479ae",
   "metadata": {},
   "source": [
    "<statement(s)> mewakili blok yang akan dieksekusi berulang kali, sering disebut sebagai badan dari perulangan. <statement(s)> dilambangkan dengan indentasi, seperti dalam pernyatan dalam if.\n",
    "Ketika loop dijalankan <expr> pertama kali akan dievaluasi dalam konteks boolean. Jika benar, badan perulangan akan dieksekusi. Kemudian <expr> dicek lagi, dan jika masih benar, badan akan dieksekusi lagi. Ini berlanjut sampai <expr> menjadi false, di mana eksekusi program akan berlanjut ke pernyataan pertama di luar badan perulangan."
   ]
  },
  {
   "cell_type": "code",
   "execution_count": 18,
   "id": "422eb276",
   "metadata": {},
   "outputs": [
    {
     "name": "stdout",
     "output_type": "stream",
     "text": [
      "1\n",
      "2\n",
      "3\n",
      "4\n",
      "5\n"
     ]
    }
   ],
   "source": [
    "i = 1\n",
    "while i < 6:\n",
    "  print(i)\n",
    "  i += 1"
   ]
  },
  {
   "cell_type": "markdown",
   "id": "c202dbbb",
   "metadata": {},
   "source": [
    "### The python break and continue Statements"
   ]
  },
  {
   "cell_type": "markdown",
   "id": "9c10940b",
   "metadata": {},
   "source": [
    "- Python break statement segera menghentikan perulangan seluruhnya. Eksekusi program dilanjutkan ke pernyataan pertama setelah badan loop\n",
    "- Python continue statement segera menghentikan iterasi loop saat dijalankan. Eksekusi melompat ke atas loop, dan controling expression dievaluasi ulang untuk menentukan apakah loop akan dieksekusi lagi atau dihentikan"
   ]
  },
  {
   "cell_type": "code",
   "execution_count": 19,
   "id": "6b78e36d",
   "metadata": {},
   "outputs": [
    {
     "name": "stdout",
     "output_type": "stream",
     "text": [
      "1\n",
      "2\n",
      "3\n"
     ]
    }
   ],
   "source": [
    "i = 1\n",
    "while i < 6:\n",
    "  print(i)\n",
    "  if i == 3:\n",
    "    break\n",
    "  i += 1 "
   ]
  },
  {
   "cell_type": "markdown",
   "id": "e21b8f98",
   "metadata": {},
   "source": [
    "Ketika i menjadi 3, maka pernyataan break dieksekusi yang mengakibatkan perulangan dihentikan seluruhnya."
   ]
  },
  {
   "cell_type": "code",
   "execution_count": 20,
   "id": "20018372",
   "metadata": {},
   "outputs": [
    {
     "name": "stdout",
     "output_type": "stream",
     "text": [
      "1\n",
      "2\n",
      "4\n",
      "5\n",
      "6\n"
     ]
    }
   ],
   "source": [
    "i = 0\n",
    "while i < 6:\n",
    "  i += 1\n",
    "  if i == 3:\n",
    "    continue\n",
    "  print(i)"
   ]
  },
  {
   "cell_type": "markdown",
   "id": "e882019f",
   "metadata": {},
   "source": [
    "Ketika i menjadi 3, menyebabkan penghentian iterasI. Jadi, 3 tidak dicetak. Eksekusi kembali ke atas loop, kemudian dievaluasi ulang, dan masih benar. Perulangan dilanjutkan, berakhir ketika n menjadi 6."
   ]
  },
  {
   "cell_type": "markdown",
   "id": "74d22f33",
   "metadata": {},
   "source": [
    "### The else clause"
   ]
  },
  {
   "cell_type": "code",
   "execution_count": null,
   "id": "26a8dade",
   "metadata": {},
   "outputs": [],
   "source": [
    "# sintak dasar\n",
    "\n",
    "while <expr>:\n",
    "    <statement(s)>\n",
    "else:\n",
    "    <additional_statement(s)>"
   ]
  },
  {
   "cell_type": "code",
   "execution_count": 21,
   "id": "3fd751d5",
   "metadata": {},
   "outputs": [
    {
     "name": "stdout",
     "output_type": "stream",
     "text": [
      "1\n",
      "2\n",
      "3\n",
      "4\n",
      "5\n",
      "i is no longer less than 6\n"
     ]
    }
   ],
   "source": [
    "i = 1\n",
    "while i < 6:\n",
    "  print(i)\n",
    "  i += 1\n",
    "else:\n",
    "  print(\"i is no longer less than 6\")"
   ]
  },
  {
   "cell_type": "markdown",
   "id": "ee11ba6a",
   "metadata": {},
   "source": [
    "Dalam kasus ini, loop diulang sampai habis kondisi i menjadi 5, Jadi n < 6 menjadi false. Klausa false dieksekusi"
   ]
  },
  {
   "cell_type": "markdown",
   "id": "58be9937",
   "metadata": {},
   "source": [
    "## A Survey of Definite Iteration in Programming"
   ]
  },
  {
   "cell_type": "markdown",
   "id": "c0c32513",
   "metadata": {},
   "source": [
    "### Numeric range loop"
   ]
  },
  {
   "cell_type": "code",
   "execution_count": null,
   "id": "7acff9ae",
   "metadata": {},
   "outputs": [],
   "source": [
    "for i = 1 to 10\n",
    "    <loop body>"
   ]
  },
  {
   "cell_type": "markdown",
   "id": "80a9d3f9",
   "metadata": {},
   "source": [
    "### Three-Expression Loop"
   ]
  },
  {
   "cell_type": "code",
   "execution_count": null,
   "id": "134c6c6c",
   "metadata": {},
   "outputs": [],
   "source": [
    "for (i = 1; i <= 10; i++)\n",
    "    <loop body>"
   ]
  },
  {
   "cell_type": "markdown",
   "id": "b80ce737",
   "metadata": {},
   "source": [
    "### Collection-Based or Iterator-Based Loop"
   ]
  },
  {
   "cell_type": "code",
   "execution_count": null,
   "id": "84684643",
   "metadata": {},
   "outputs": [],
   "source": [
    "for i in <collection>\n",
    "    <loop body>"
   ]
  },
  {
   "cell_type": "markdown",
   "id": "49afcb80",
   "metadata": {},
   "source": [
    "## The Python for Loop"
   ]
  },
  {
   "cell_type": "code",
   "execution_count": null,
   "id": "9f2806d2",
   "metadata": {},
   "outputs": [],
   "source": [
    "for <var> in <iterable>:\n",
    "    <statement(s)>"
   ]
  },
  {
   "cell_type": "markdown",
   "id": "2b7a4c8b",
   "metadata": {},
   "source": [
    "<iterable> adalah kumpulan objek-misalnya, list dan tuple. <statement(s)> di badan loop dilambangkan dengan indentasi, seperti dengan semua struktur kontrol python, dan dieksekusi sekali untuk setiap item di <iterable>. Variabel loop <var> mengambil nilai elemen berikutnya di <iterable> setiap kali melalui loop"
   ]
  },
  {
   "cell_type": "code",
   "execution_count": 22,
   "id": "caa1935c",
   "metadata": {},
   "outputs": [
    {
     "name": "stdout",
     "output_type": "stream",
     "text": [
      "apple\n",
      "banana\n",
      "cherry\n"
     ]
    }
   ],
   "source": [
    "# examples\n",
    "\n",
    "fruits = [\"apple\", \"banana\", \"cherry\"]\n",
    "for x in fruits:\n",
    "  print(x)"
   ]
  },
  {
   "cell_type": "markdown",
   "id": "32e467c3",
   "metadata": {},
   "source": [
    "### Iterating Through a Dictionary"
   ]
  },
  {
   "cell_type": "code",
   "execution_count": 23,
   "id": "6bc3f404",
   "metadata": {},
   "outputs": [
    {
     "name": "stdout",
     "output_type": "stream",
     "text": [
      "b\n",
      "a\n",
      "n\n",
      "a\n",
      "n\n",
      "a\n"
     ]
    }
   ],
   "source": [
    "for x in \"banana\":\n",
    "  print(x)"
   ]
  },
  {
   "cell_type": "markdown",
   "id": "49a1e10d",
   "metadata": {},
   "source": [
    "### The range() Function"
   ]
  },
  {
   "cell_type": "code",
   "execution_count": null,
   "id": "c61b48d9",
   "metadata": {},
   "outputs": [],
   "source": [
    "# bentuk dasar\n",
    "for n in x:\n",
    "    print(n)"
   ]
  },
  {
   "cell_type": "markdown",
   "id": "84de2a30",
   "metadata": {},
   "source": [
    "Untuk mengulang sekumpulan kode beberapa kali tertentu, kita dapat menggunakan fungsi range() ,\n",
    "Fungsi range() mengembalikan urutan angka, dimulai dari 0 secara default, dan bertambah 1 (secara default), dan berakhir pada angka tertentu."
   ]
  },
  {
   "cell_type": "code",
   "execution_count": 24,
   "id": "76b6327a",
   "metadata": {},
   "outputs": [
    {
     "name": "stdout",
     "output_type": "stream",
     "text": [
      "0\n",
      "1\n",
      "2\n",
      "3\n",
      "4\n",
      "5\n"
     ]
    }
   ],
   "source": [
    "for x in range(6):\n",
    "  print(x)"
   ]
  },
  {
   "cell_type": "markdown",
   "id": "fc57529b",
   "metadata": {},
   "source": [
    "Fungsi range() defaultnya adalah 0 sebagai nilai awal, namun dimungkinkan untuk menentukan nilai awal dengan menambahkan parameter: range(2, 6) , yang berarti nilai dari 2 hingga 6 (tetapi tidak termasuk 6):"
   ]
  },
  {
   "cell_type": "code",
   "execution_count": 25,
   "id": "4cf2da16",
   "metadata": {},
   "outputs": [
    {
     "name": "stdout",
     "output_type": "stream",
     "text": [
      "2\n",
      "3\n",
      "4\n",
      "5\n"
     ]
    }
   ],
   "source": [
    "for x in range(2, 6):\n",
    "  print(x)"
   ]
  },
  {
   "cell_type": "markdown",
   "id": "8093b5c6",
   "metadata": {},
   "source": [
    "Fungsi range() defaultnya adalah menaikkan urutan sebesar 1, namun dimungkinkan untuk menentukan nilai kenaikan dengan menambahkan parameter ketiga: range(2, 30, 3 ) :"
   ]
  },
  {
   "cell_type": "code",
   "execution_count": 26,
   "id": "f06e8a21",
   "metadata": {},
   "outputs": [
    {
     "name": "stdout",
     "output_type": "stream",
     "text": [
      "2\n",
      "5\n",
      "8\n",
      "11\n",
      "14\n",
      "17\n",
      "20\n",
      "23\n",
      "26\n",
      "29\n"
     ]
    }
   ],
   "source": [
    "for x in range(2, 30, 3):\n",
    "  print(x)"
   ]
  },
  {
   "cell_type": "markdown",
   "id": "d5fcef16",
   "metadata": {},
   "source": [
    "Tambahkan urutannya dengan 3 (defaultnya adalah 1):"
   ]
  },
  {
   "cell_type": "markdown",
   "id": "192ad0ab",
   "metadata": {},
   "source": [
    "### Artering for loop behaviour"
   ]
  },
  {
   "cell_type": "markdown",
   "id": "bc7451fe",
   "metadata": {},
   "source": [
    "#### The break and continue Statements"
   ]
  },
  {
   "cell_type": "code",
   "execution_count": 27,
   "id": "5a0311ed",
   "metadata": {},
   "outputs": [
    {
     "name": "stdout",
     "output_type": "stream",
     "text": [
      "apple\n"
     ]
    }
   ],
   "source": [
    " fruits = [\"apple\", \"banana\", \"cherry\"]\n",
    "for x in fruits:\n",
    "  if x == \"banana\":\n",
    "    break\n",
    "  print(x)"
   ]
  },
  {
   "cell_type": "markdown",
   "id": "8f7b77a8",
   "metadata": {},
   "source": [
    "Keluar dari loop ketika x = \"banana\""
   ]
  },
  {
   "cell_type": "code",
   "execution_count": 28,
   "id": "e57fff11",
   "metadata": {},
   "outputs": [
    {
     "name": "stdout",
     "output_type": "stream",
     "text": [
      "apple\n",
      "cherry\n"
     ]
    }
   ],
   "source": [
    "fruits = [\"apple\", \"banana\", \"cherry\"]\n",
    "for x in fruits:\n",
    "  if x == \"banana\":\n",
    "    continue\n",
    "  print(x)"
   ]
  },
  {
   "cell_type": "markdown",
   "id": "e5469c69",
   "metadata": {},
   "source": [
    "Ketika loop sampai pada kondisi x = \"banana\", maka pernyataan tersebut tidak dicetak dan loop akan beranjut."
   ]
  },
  {
   "cell_type": "markdown",
   "id": "8374da1f",
   "metadata": {},
   "source": [
    "#### The else Clause"
   ]
  },
  {
   "cell_type": "code",
   "execution_count": 29,
   "id": "743c347a",
   "metadata": {},
   "outputs": [
    {
     "name": "stdout",
     "output_type": "stream",
     "text": [
      "0\n",
      "1\n",
      "2\n",
      "3\n",
      "4\n",
      "5\n",
      "Finally finished!\n"
     ]
    }
   ],
   "source": [
    "for x in range(6):\n",
    "  print(x)\n",
    "else:\n",
    "  print(\"Finally finished!\") "
   ]
  },
  {
   "cell_type": "markdown",
   "id": "d6727ec8",
   "metadata": {},
   "source": [
    "print semua angka dari 0 hingga 5, dan print pesan ketika perulangan telah berakhir"
   ]
  },
  {
   "cell_type": "markdown",
   "id": "74dc4693",
   "metadata": {},
   "source": [
    "Klausa else tidak akan dijalankan jika list berhenti dengan pernyataan break"
   ]
  },
  {
   "cell_type": "code",
   "execution_count": 32,
   "id": "8e636193",
   "metadata": {},
   "outputs": [
    {
     "name": "stdout",
     "output_type": "stream",
     "text": [
      "0\n",
      "1\n",
      "2\n"
     ]
    }
   ],
   "source": [
    "for x in range(6):\n",
    "  if x == 3:\n",
    "    break\n",
    "  print(x)\n",
    "else:\n",
    "  print(\"Finally finished!\") # else will not execute"
   ]
  }
 ],
 "metadata": {
  "kernelspec": {
   "display_name": "Python 3 (ipykernel)",
   "language": "python",
   "name": "python3"
  },
  "language_info": {
   "codemirror_mode": {
    "name": "ipython",
    "version": 3
   },
   "file_extension": ".py",
   "mimetype": "text/x-python",
   "name": "python",
   "nbconvert_exporter": "python",
   "pygments_lexer": "ipython3",
   "version": "3.11.4"
  },
  "toc": {
   "base_numbering": 1,
   "nav_menu": {},
   "number_sections": true,
   "sideBar": true,
   "skip_h1_title": false,
   "title_cell": "Table of Contents",
   "title_sidebar": "Contents",
   "toc_cell": false,
   "toc_position": {},
   "toc_section_display": true,
   "toc_window_display": true
  }
 },
 "nbformat": 4,
 "nbformat_minor": 5
}
