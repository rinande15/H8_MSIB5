{
 "cells": [
  {
   "cell_type": "markdown",
   "id": "159f74c1",
   "metadata": {},
   "source": [
    "<h1 align=\"center\">Assignment 3</h1>\n",
    "\n",
    "<p><strong>Nama:</strong> Muhammad Rinande Ansutia<br>\n",
    "   <strong>No:</strong> PYTN-KS19-021</p>"
   ]
  },
  {
   "cell_type": "markdown",
   "id": "0ec85d2e",
   "metadata": {},
   "source": [
    "## Project Overview"
   ]
  },
  {
   "cell_type": "markdown",
   "id": "9971d64d",
   "metadata": {},
   "source": [
    "The data is related with direct marketing campaigns of a Portuguese banking institution The marketing campaigns were based on phone calls. Often, more than one contact to the same client was required, in order to access if the product (bank term deposit) would be ('yes') or ('no') subscribed.\n",
    "\n",
    "Input variables:\n",
    "\n",
    "- Age (numeric)\n",
    "- job: type of job (categorical: 'admin', 'blue-collar', 'entrepreneur', 'student', 'technician', 'unemployed', 'unknown')\n",
    "- marital: marital status (categorical: 'divorced', 'married', 'single', 'unknown'; note: 'divorced' means divorced or widowed)\n",
    "- education (categorical: 'basic.4y', 'basic.6y', 'basic.9y', 'illiterate', 'professional.course', 'university.degree','unknown')\n",
    "- default: has credit in default? (categorical: 'no', 'yes', 'unknown')\n",
    "- housing: has housing loan? (categorical: 'no', 'yes', 'unknown')\n",
    "- loan: has personal loan? (categorical: 'no', 'yes', 'unknown')\n",
    "\n",
    "**related with the last contact of the current campaign:**\n",
    "\n",
    "- contact: contact communication type (categorical: 'cellular', 'telephone')\n",
    "- month: last contact month of year (categorical: 'jan', 'feb', 'mar', ..., 'nov', 'dec')\n",
    "- day_of_week: last contact day of the week (categorical: 'mon', 'tue', 'wed', 'thu', 'fri')\n",
    "- duration: last contact duration, in seconds (numeric). Important note: this attribute highly affects the output target (e.g., if duration=0 then y='no'). Yet, the duration is not known before a call is performed. Also, after the end of the call y is obviously known. Thus, this input should only be included for benchmark purposes and should be discarded if the intention is to have a realistic predictive model.\n",
    "\n",
    "**other attributes:**\n",
    "\n",
    "- campaign: number of contacts performed during this campaign and for this client (numeric, includes last contact)\n",
    "- pdays: number of days that passed by after the client was last contacted from a previous campaign (numeric; 999 means client was not previously contacted)\n",
    "- previous: number of contacts performed before this campaign and for this client (numeric)\n",
    "- poutcome: outcome of the previous marketing campaign (categorical: 'failure', 'nonexistent', 'success')\n",
    "\n",
    "**social and economic context attributes**\n",
    "\n",
    "- emp.var.rate: employment variation rate - quarterly indicator (numeric)\n",
    "- cons.price.idx: consumer price index - monthly indicator (numeric)\n",
    "- cons.conf.idx: consumer confidence index - monthly indicator (numeric)\n",
    "- euribor3m: euribor 3 month rate - daily indicator (numeric)\n",
    "- nr.employed: number of employees - quarterly indicator (numeric)\n",
    "\n",
    "**Output variable (desired target):**\n",
    "\n",
    "- y - has the client subscribed a term deposit? (binary: 'yes', 'no')"
   ]
  },
  {
   "cell_type": "markdown",
   "id": "cc1fa26a",
   "metadata": {},
   "source": [
    "## Import Library"
   ]
  },
  {
   "cell_type": "code",
   "execution_count": 96,
   "id": "3763f848",
   "metadata": {},
   "outputs": [],
   "source": [
    "import pandas as pd\n",
    "import seaborn as sns\n",
    "from matplotlib import pyplot as plt\n",
    "\n",
    "from sklearn import preprocessing\n",
    "from sklearn.model_selection import train_test_split\n",
    "from sklearn.preprocessing import StandardScaler\n",
    "from sklearn.metrics import accuracy_score, classification_report, confusion_matrix\n",
    "from sklearn.metrics import accuracy_score, precision_score, recall_score, f1_score\n",
    "from sklearn.linear_model import LogisticRegression\n",
    "from sklearn.neighbors import KNeighborsClassifier\n",
    "from sklearn.svm import SVC\n",
    "from sklearn.tree import DecisionTreeClassifier\n",
    "from sklearn.ensemble import RandomForestClassifier\n",
    "from sklearn.naive_bayes import GaussianNB"
   ]
  },
  {
   "cell_type": "markdown",
   "id": "1a8f6877",
   "metadata": {},
   "source": [
    "## Preprocessing\n",
    "\n",
    "#### bank-additional-full.csv"
   ]
  },
  {
   "cell_type": "code",
   "execution_count": 12,
   "id": "c5af5e7d",
   "metadata": {},
   "outputs": [
    {
     "data": {
      "text/html": [
       "<div>\n",
       "<style scoped>\n",
       "    .dataframe tbody tr th:only-of-type {\n",
       "        vertical-align: middle;\n",
       "    }\n",
       "\n",
       "    .dataframe tbody tr th {\n",
       "        vertical-align: top;\n",
       "    }\n",
       "\n",
       "    .dataframe thead th {\n",
       "        text-align: right;\n",
       "    }\n",
       "</style>\n",
       "<table border=\"1\" class=\"dataframe\">\n",
       "  <thead>\n",
       "    <tr style=\"text-align: right;\">\n",
       "      <th></th>\n",
       "      <th>age</th>\n",
       "      <th>job</th>\n",
       "      <th>marital</th>\n",
       "      <th>education</th>\n",
       "      <th>default</th>\n",
       "      <th>housing</th>\n",
       "      <th>loan</th>\n",
       "      <th>contact</th>\n",
       "      <th>month</th>\n",
       "      <th>day_of_week</th>\n",
       "      <th>...</th>\n",
       "      <th>campaign</th>\n",
       "      <th>pdays</th>\n",
       "      <th>previous</th>\n",
       "      <th>poutcome</th>\n",
       "      <th>emp.var.rate</th>\n",
       "      <th>cons.price.idx</th>\n",
       "      <th>cons.conf.idx</th>\n",
       "      <th>euribor3m</th>\n",
       "      <th>nr.employed</th>\n",
       "      <th>y</th>\n",
       "    </tr>\n",
       "  </thead>\n",
       "  <tbody>\n",
       "    <tr>\n",
       "      <th>0</th>\n",
       "      <td>56</td>\n",
       "      <td>housemaid</td>\n",
       "      <td>married</td>\n",
       "      <td>basic.4y</td>\n",
       "      <td>no</td>\n",
       "      <td>no</td>\n",
       "      <td>no</td>\n",
       "      <td>telephone</td>\n",
       "      <td>may</td>\n",
       "      <td>mon</td>\n",
       "      <td>...</td>\n",
       "      <td>1</td>\n",
       "      <td>999</td>\n",
       "      <td>0</td>\n",
       "      <td>nonexistent</td>\n",
       "      <td>1.1</td>\n",
       "      <td>93.994</td>\n",
       "      <td>-36.4</td>\n",
       "      <td>4.857</td>\n",
       "      <td>5191.0</td>\n",
       "      <td>no</td>\n",
       "    </tr>\n",
       "    <tr>\n",
       "      <th>1</th>\n",
       "      <td>57</td>\n",
       "      <td>services</td>\n",
       "      <td>married</td>\n",
       "      <td>high.school</td>\n",
       "      <td>unknown</td>\n",
       "      <td>no</td>\n",
       "      <td>no</td>\n",
       "      <td>telephone</td>\n",
       "      <td>may</td>\n",
       "      <td>mon</td>\n",
       "      <td>...</td>\n",
       "      <td>1</td>\n",
       "      <td>999</td>\n",
       "      <td>0</td>\n",
       "      <td>nonexistent</td>\n",
       "      <td>1.1</td>\n",
       "      <td>93.994</td>\n",
       "      <td>-36.4</td>\n",
       "      <td>4.857</td>\n",
       "      <td>5191.0</td>\n",
       "      <td>no</td>\n",
       "    </tr>\n",
       "    <tr>\n",
       "      <th>2</th>\n",
       "      <td>37</td>\n",
       "      <td>services</td>\n",
       "      <td>married</td>\n",
       "      <td>high.school</td>\n",
       "      <td>no</td>\n",
       "      <td>yes</td>\n",
       "      <td>no</td>\n",
       "      <td>telephone</td>\n",
       "      <td>may</td>\n",
       "      <td>mon</td>\n",
       "      <td>...</td>\n",
       "      <td>1</td>\n",
       "      <td>999</td>\n",
       "      <td>0</td>\n",
       "      <td>nonexistent</td>\n",
       "      <td>1.1</td>\n",
       "      <td>93.994</td>\n",
       "      <td>-36.4</td>\n",
       "      <td>4.857</td>\n",
       "      <td>5191.0</td>\n",
       "      <td>no</td>\n",
       "    </tr>\n",
       "    <tr>\n",
       "      <th>3</th>\n",
       "      <td>40</td>\n",
       "      <td>admin.</td>\n",
       "      <td>married</td>\n",
       "      <td>basic.6y</td>\n",
       "      <td>no</td>\n",
       "      <td>no</td>\n",
       "      <td>no</td>\n",
       "      <td>telephone</td>\n",
       "      <td>may</td>\n",
       "      <td>mon</td>\n",
       "      <td>...</td>\n",
       "      <td>1</td>\n",
       "      <td>999</td>\n",
       "      <td>0</td>\n",
       "      <td>nonexistent</td>\n",
       "      <td>1.1</td>\n",
       "      <td>93.994</td>\n",
       "      <td>-36.4</td>\n",
       "      <td>4.857</td>\n",
       "      <td>5191.0</td>\n",
       "      <td>no</td>\n",
       "    </tr>\n",
       "    <tr>\n",
       "      <th>4</th>\n",
       "      <td>56</td>\n",
       "      <td>services</td>\n",
       "      <td>married</td>\n",
       "      <td>high.school</td>\n",
       "      <td>no</td>\n",
       "      <td>no</td>\n",
       "      <td>yes</td>\n",
       "      <td>telephone</td>\n",
       "      <td>may</td>\n",
       "      <td>mon</td>\n",
       "      <td>...</td>\n",
       "      <td>1</td>\n",
       "      <td>999</td>\n",
       "      <td>0</td>\n",
       "      <td>nonexistent</td>\n",
       "      <td>1.1</td>\n",
       "      <td>93.994</td>\n",
       "      <td>-36.4</td>\n",
       "      <td>4.857</td>\n",
       "      <td>5191.0</td>\n",
       "      <td>no</td>\n",
       "    </tr>\n",
       "    <tr>\n",
       "      <th>...</th>\n",
       "      <td>...</td>\n",
       "      <td>...</td>\n",
       "      <td>...</td>\n",
       "      <td>...</td>\n",
       "      <td>...</td>\n",
       "      <td>...</td>\n",
       "      <td>...</td>\n",
       "      <td>...</td>\n",
       "      <td>...</td>\n",
       "      <td>...</td>\n",
       "      <td>...</td>\n",
       "      <td>...</td>\n",
       "      <td>...</td>\n",
       "      <td>...</td>\n",
       "      <td>...</td>\n",
       "      <td>...</td>\n",
       "      <td>...</td>\n",
       "      <td>...</td>\n",
       "      <td>...</td>\n",
       "      <td>...</td>\n",
       "      <td>...</td>\n",
       "    </tr>\n",
       "    <tr>\n",
       "      <th>41183</th>\n",
       "      <td>73</td>\n",
       "      <td>retired</td>\n",
       "      <td>married</td>\n",
       "      <td>professional.course</td>\n",
       "      <td>no</td>\n",
       "      <td>yes</td>\n",
       "      <td>no</td>\n",
       "      <td>cellular</td>\n",
       "      <td>nov</td>\n",
       "      <td>fri</td>\n",
       "      <td>...</td>\n",
       "      <td>1</td>\n",
       "      <td>999</td>\n",
       "      <td>0</td>\n",
       "      <td>nonexistent</td>\n",
       "      <td>-1.1</td>\n",
       "      <td>94.767</td>\n",
       "      <td>-50.8</td>\n",
       "      <td>1.028</td>\n",
       "      <td>4963.6</td>\n",
       "      <td>yes</td>\n",
       "    </tr>\n",
       "    <tr>\n",
       "      <th>41184</th>\n",
       "      <td>46</td>\n",
       "      <td>blue-collar</td>\n",
       "      <td>married</td>\n",
       "      <td>professional.course</td>\n",
       "      <td>no</td>\n",
       "      <td>no</td>\n",
       "      <td>no</td>\n",
       "      <td>cellular</td>\n",
       "      <td>nov</td>\n",
       "      <td>fri</td>\n",
       "      <td>...</td>\n",
       "      <td>1</td>\n",
       "      <td>999</td>\n",
       "      <td>0</td>\n",
       "      <td>nonexistent</td>\n",
       "      <td>-1.1</td>\n",
       "      <td>94.767</td>\n",
       "      <td>-50.8</td>\n",
       "      <td>1.028</td>\n",
       "      <td>4963.6</td>\n",
       "      <td>no</td>\n",
       "    </tr>\n",
       "    <tr>\n",
       "      <th>41185</th>\n",
       "      <td>56</td>\n",
       "      <td>retired</td>\n",
       "      <td>married</td>\n",
       "      <td>university.degree</td>\n",
       "      <td>no</td>\n",
       "      <td>yes</td>\n",
       "      <td>no</td>\n",
       "      <td>cellular</td>\n",
       "      <td>nov</td>\n",
       "      <td>fri</td>\n",
       "      <td>...</td>\n",
       "      <td>2</td>\n",
       "      <td>999</td>\n",
       "      <td>0</td>\n",
       "      <td>nonexistent</td>\n",
       "      <td>-1.1</td>\n",
       "      <td>94.767</td>\n",
       "      <td>-50.8</td>\n",
       "      <td>1.028</td>\n",
       "      <td>4963.6</td>\n",
       "      <td>no</td>\n",
       "    </tr>\n",
       "    <tr>\n",
       "      <th>41186</th>\n",
       "      <td>44</td>\n",
       "      <td>technician</td>\n",
       "      <td>married</td>\n",
       "      <td>professional.course</td>\n",
       "      <td>no</td>\n",
       "      <td>no</td>\n",
       "      <td>no</td>\n",
       "      <td>cellular</td>\n",
       "      <td>nov</td>\n",
       "      <td>fri</td>\n",
       "      <td>...</td>\n",
       "      <td>1</td>\n",
       "      <td>999</td>\n",
       "      <td>0</td>\n",
       "      <td>nonexistent</td>\n",
       "      <td>-1.1</td>\n",
       "      <td>94.767</td>\n",
       "      <td>-50.8</td>\n",
       "      <td>1.028</td>\n",
       "      <td>4963.6</td>\n",
       "      <td>yes</td>\n",
       "    </tr>\n",
       "    <tr>\n",
       "      <th>41187</th>\n",
       "      <td>74</td>\n",
       "      <td>retired</td>\n",
       "      <td>married</td>\n",
       "      <td>professional.course</td>\n",
       "      <td>no</td>\n",
       "      <td>yes</td>\n",
       "      <td>no</td>\n",
       "      <td>cellular</td>\n",
       "      <td>nov</td>\n",
       "      <td>fri</td>\n",
       "      <td>...</td>\n",
       "      <td>3</td>\n",
       "      <td>999</td>\n",
       "      <td>1</td>\n",
       "      <td>failure</td>\n",
       "      <td>-1.1</td>\n",
       "      <td>94.767</td>\n",
       "      <td>-50.8</td>\n",
       "      <td>1.028</td>\n",
       "      <td>4963.6</td>\n",
       "      <td>no</td>\n",
       "    </tr>\n",
       "  </tbody>\n",
       "</table>\n",
       "<p>41188 rows × 21 columns</p>\n",
       "</div>"
      ],
      "text/plain": [
       "       age          job  marital            education  default housing loan  \\\n",
       "0       56    housemaid  married             basic.4y       no      no   no   \n",
       "1       57     services  married          high.school  unknown      no   no   \n",
       "2       37     services  married          high.school       no     yes   no   \n",
       "3       40       admin.  married             basic.6y       no      no   no   \n",
       "4       56     services  married          high.school       no      no  yes   \n",
       "...    ...          ...      ...                  ...      ...     ...  ...   \n",
       "41183   73      retired  married  professional.course       no     yes   no   \n",
       "41184   46  blue-collar  married  professional.course       no      no   no   \n",
       "41185   56      retired  married    university.degree       no     yes   no   \n",
       "41186   44   technician  married  professional.course       no      no   no   \n",
       "41187   74      retired  married  professional.course       no     yes   no   \n",
       "\n",
       "         contact month day_of_week  ...  campaign  pdays  previous  \\\n",
       "0      telephone   may         mon  ...         1    999         0   \n",
       "1      telephone   may         mon  ...         1    999         0   \n",
       "2      telephone   may         mon  ...         1    999         0   \n",
       "3      telephone   may         mon  ...         1    999         0   \n",
       "4      telephone   may         mon  ...         1    999         0   \n",
       "...          ...   ...         ...  ...       ...    ...       ...   \n",
       "41183   cellular   nov         fri  ...         1    999         0   \n",
       "41184   cellular   nov         fri  ...         1    999         0   \n",
       "41185   cellular   nov         fri  ...         2    999         0   \n",
       "41186   cellular   nov         fri  ...         1    999         0   \n",
       "41187   cellular   nov         fri  ...         3    999         1   \n",
       "\n",
       "          poutcome emp.var.rate  cons.price.idx  cons.conf.idx  euribor3m  \\\n",
       "0      nonexistent          1.1          93.994          -36.4      4.857   \n",
       "1      nonexistent          1.1          93.994          -36.4      4.857   \n",
       "2      nonexistent          1.1          93.994          -36.4      4.857   \n",
       "3      nonexistent          1.1          93.994          -36.4      4.857   \n",
       "4      nonexistent          1.1          93.994          -36.4      4.857   \n",
       "...            ...          ...             ...            ...        ...   \n",
       "41183  nonexistent         -1.1          94.767          -50.8      1.028   \n",
       "41184  nonexistent         -1.1          94.767          -50.8      1.028   \n",
       "41185  nonexistent         -1.1          94.767          -50.8      1.028   \n",
       "41186  nonexistent         -1.1          94.767          -50.8      1.028   \n",
       "41187      failure         -1.1          94.767          -50.8      1.028   \n",
       "\n",
       "       nr.employed    y  \n",
       "0           5191.0   no  \n",
       "1           5191.0   no  \n",
       "2           5191.0   no  \n",
       "3           5191.0   no  \n",
       "4           5191.0   no  \n",
       "...            ...  ...  \n",
       "41183       4963.6  yes  \n",
       "41184       4963.6   no  \n",
       "41185       4963.6   no  \n",
       "41186       4963.6  yes  \n",
       "41187       4963.6   no  \n",
       "\n",
       "[41188 rows x 21 columns]"
      ]
     },
     "execution_count": 12,
     "metadata": {},
     "output_type": "execute_result"
    }
   ],
   "source": [
    "df = pd.read_csv('bank-additional-full.csv', sep=';')\n",
    "df"
   ]
  },
  {
   "cell_type": "code",
   "execution_count": 13,
   "id": "1c8c6474",
   "metadata": {},
   "outputs": [
    {
     "name": "stdout",
     "output_type": "stream",
     "text": [
      "<class 'pandas.core.frame.DataFrame'>\n",
      "RangeIndex: 41188 entries, 0 to 41187\n",
      "Data columns (total 21 columns):\n",
      " #   Column          Non-Null Count  Dtype  \n",
      "---  ------          --------------  -----  \n",
      " 0   age             41188 non-null  int64  \n",
      " 1   job             41188 non-null  object \n",
      " 2   marital         41188 non-null  object \n",
      " 3   education       41188 non-null  object \n",
      " 4   default         41188 non-null  object \n",
      " 5   housing         41188 non-null  object \n",
      " 6   loan            41188 non-null  object \n",
      " 7   contact         41188 non-null  object \n",
      " 8   month           41188 non-null  object \n",
      " 9   day_of_week     41188 non-null  object \n",
      " 10  duration        41188 non-null  int64  \n",
      " 11  campaign        41188 non-null  int64  \n",
      " 12  pdays           41188 non-null  int64  \n",
      " 13  previous        41188 non-null  int64  \n",
      " 14  poutcome        41188 non-null  object \n",
      " 15  emp.var.rate    41188 non-null  float64\n",
      " 16  cons.price.idx  41188 non-null  float64\n",
      " 17  cons.conf.idx   41188 non-null  float64\n",
      " 18  euribor3m       41188 non-null  float64\n",
      " 19  nr.employed     41188 non-null  float64\n",
      " 20  y               41188 non-null  object \n",
      "dtypes: float64(5), int64(5), object(11)\n",
      "memory usage: 6.6+ MB\n"
     ]
    }
   ],
   "source": [
    "# check type data\n",
    "df.info()"
   ]
  },
  {
   "cell_type": "code",
   "execution_count": 15,
   "id": "69b61a2e",
   "metadata": {},
   "outputs": [
    {
     "data": {
      "text/plain": [
       "age               0\n",
       "job               0\n",
       "marital           0\n",
       "education         0\n",
       "default           0\n",
       "housing           0\n",
       "loan              0\n",
       "contact           0\n",
       "month             0\n",
       "day_of_week       0\n",
       "duration          0\n",
       "campaign          0\n",
       "pdays             0\n",
       "previous          0\n",
       "poutcome          0\n",
       "emp.var.rate      0\n",
       "cons.price.idx    0\n",
       "cons.conf.idx     0\n",
       "euribor3m         0\n",
       "nr.employed       0\n",
       "y                 0\n",
       "dtype: int64"
      ]
     },
     "execution_count": 15,
     "metadata": {},
     "output_type": "execute_result"
    }
   ],
   "source": [
    "# check nilai null\n",
    "df.isnull().sum()"
   ]
  },
  {
   "cell_type": "markdown",
   "id": "e4a6b170",
   "metadata": {},
   "source": [
    "Tidak terdapat nilai null di datasest ini"
   ]
  },
  {
   "cell_type": "code",
   "execution_count": 16,
   "id": "f591fdc7",
   "metadata": {},
   "outputs": [
    {
     "data": {
      "text/plain": [
       "12"
      ]
     },
     "execution_count": 16,
     "metadata": {},
     "output_type": "execute_result"
    }
   ],
   "source": [
    "# check duplicated data\n",
    "df.duplicated().sum()"
   ]
  },
  {
   "cell_type": "markdown",
   "id": "66449bc9",
   "metadata": {},
   "source": [
    "Karena terdapat 12 duplicated data, maka akan dibuang"
   ]
  },
  {
   "cell_type": "code",
   "execution_count": 17,
   "id": "c3f99da4",
   "metadata": {},
   "outputs": [
    {
     "data": {
      "text/plain": [
       "0"
      ]
     },
     "execution_count": 17,
     "metadata": {},
     "output_type": "execute_result"
    }
   ],
   "source": [
    "# buang duplicated data\n",
    "df.drop_duplicates(subset=df.columns, keep='last', inplace=True)\n",
    "df.duplicated().sum()"
   ]
  },
  {
   "cell_type": "markdown",
   "id": "4d30b4f2",
   "metadata": {},
   "source": [
    "### EDA"
   ]
  },
  {
   "cell_type": "markdown",
   "id": "492ef220",
   "metadata": {},
   "source": [
    "Periksa distribusi variabel target 'y' untuk memahami seimbang atau tidaknya antara kelas ('yes' dan 'no')."
   ]
  },
  {
   "cell_type": "code",
   "execution_count": 25,
   "id": "46dbad49",
   "metadata": {},
   "outputs": [
    {
     "data": {
      "image/png": "[encoded data removed]",
      "text/plain": [
       "<Figure size 600x400 with 1 Axes>"
      ]
     },
     "metadata": {},
     "output_type": "display_data"
    }
   ],
   "source": [
    "plt.figure(figsize=(6, 4))\n",
    "df['y'].value_counts().plot(kind='bar', color=['skyblue', 'salmon'])\n",
    "plt.title('Distribusi Variabel Target (y)')\n",
    "plt.xlabel('y')\n",
    "plt.ylabel('Jumlah')\n",
    "plt.show()"
   ]
  },
  {
   "cell_type": "markdown",
   "id": "90b747dd",
   "metadata": {},
   "source": [
    "dapat ditarik kesimpulan,\n",
    "1. Ketidakseimbangan Kelas:\n",
    "\n",
    "    - Terlihat bahwa kelas 'no' (klien tidak berlangganan) lebih dominan dibandingkan dengan kelas 'yes' (klien berlangganan).\n",
    "    - Distribusi ini menunjukkan adanya ketidakseimbangan dalam data target, di mana jumlah klien yang tidak berlangganan jauh lebih banyak dibandingkan dengan yang berlangganan.\n",
    "\n",
    "2. Respon Langganan Rendah:\n",
    "\n",
    "    - Proporsi klien yang berlangganan deposito (kelas 'yes') relatif lebih rendah dibandingkan dengan yang tidak berlangganan (kelas 'no')."
   ]
  },
  {
   "cell_type": "code",
   "execution_count": 30,
   "id": "1af74afe",
   "metadata": {},
   "outputs": [
    {
     "data": {
      "image/png": "[encoded data removed]",
      "text/plain": [
       "<Figure size 1000x800 with 1 Axes>"
      ]
     },
     "metadata": {},
     "output_type": "display_data"
    }
   ],
   "source": [
    "plt.figure(figsize=(10, 8))\n",
    "df['job'].value_counts().plot(kind='pie', autopct='%1.1f%%', colors=['#66b3ff', '#99ff99', '#ffcc99', '#c2c2f0', '#ffb3e6', '#ff6666', '#c2f0c2'])\n",
    "plt.title('Distribusi Pekerjaan')\n",
    "plt.show()"
   ]
  },
  {
   "cell_type": "markdown",
   "id": "3609b15e",
   "metadata": {},
   "source": [
    "Tampak bahwa top 5 pekerjaan yang paling banyak adalah: admin, blue-collar, technician, services dan management."
   ]
  },
  {
   "cell_type": "code",
   "execution_count": 37,
   "id": "e1aefbf9",
   "metadata": {},
   "outputs": [
    {
     "data": {
      "image/png": "[encoded data removed]",
      "text/plain": [
       "<Figure size 1000x600 with 1 Axes>"
      ]
     },
     "metadata": {},
     "output_type": "display_data"
    }
   ],
   "source": [
    "plt.figure(figsize=(10, 6))\n",
    "df['job'].value_counts().head(5).plot(kind='barh', color=['skyblue', 'lightcoral', 'lightgreen', 'lightpink', 'gold'])\n",
    "plt.title('Top 5 Pekerjaan yang Subscribe Term Deposit')\n",
    "plt.xlabel('Jumlah')\n",
    "plt.ylabel('Pekerjaan')\n",
    "plt.show()\n"
   ]
  },
  {
   "cell_type": "markdown",
   "id": "5d58e9b8",
   "metadata": {},
   "source": [
    "Tampak juga bahwa top 5 pekerjaan yang paling banyak subscribe term deposit adalah admin dan yang kedua terbanyak adalah blue-collar."
   ]
  },
  {
   "cell_type": "markdown",
   "id": "3290d7d9",
   "metadata": {},
   "source": [
    "### Label Encoding"
   ]
  },
  {
   "cell_type": "code",
   "execution_count": 41,
   "id": "3d498b86",
   "metadata": {},
   "outputs": [],
   "source": [
    "# Identifikasi kolom kategorikal dan boolean\n",
    "categorical = df.select_dtypes(include=['object']).columns.tolist()\n",
    "boolean = df.select_dtypes(include=['bool']).columns.tolist()\n",
    "\n",
    "# Menggunakan LabelEncoder untuk mengubah data kategori ke data numerik\n",
    "le = preprocessing.LabelEncoder()\n",
    "\n",
    "# Mengubah data kategori ke data numerik pada DataFrame df\n",
    "for col in categorical:\n",
    "    df[col] = le.fit_transform(df[col])\n",
    "\n",
    "# Mengubah data boolean ke data numerik pada DataFrame df\n",
    "for col in boolean:\n",
    "    df[col] = le.fit_transform(df[col])"
   ]
  },
  {
   "cell_type": "markdown",
   "id": "8218936b",
   "metadata": {},
   "source": [
    "#### Split Data"
   ]
  },
  {
   "cell_type": "code",
   "execution_count": 45,
   "id": "bc7b4a30",
   "metadata": {},
   "outputs": [],
   "source": [
    "# Split data\n",
    "train, test = train_test_split(df, test_size=0.25, random_state=11)\n",
    "\n",
    "# Assign index directly\n",
    "train_index = train.index\n",
    "test_index = test.index\n",
    "\n",
    "# Memilih kolom yang sesuai dengan kebutuhan Anda\n",
    "features = ['age', 'job', 'marital', 'education', 'default', 'cons.price.idx',\n",
    "            'housing', 'loan', 'contact', 'duration', 'campaign', 'pdays',\n",
    "            'previous', 'poutcome']\n",
    "\n",
    "# X_train dan X_test sesuai dengan fitur yang Anda pilih\n",
    "X_train = train[features]\n",
    "y_train = train['y']\n",
    "\n",
    "X_test = test[features]\n",
    "y_test = test['y']"
   ]
  },
  {
   "cell_type": "code",
   "execution_count": 49,
   "id": "79ee7776",
   "metadata": {},
   "outputs": [
    {
     "name": "stdout",
     "output_type": "stream",
     "text": [
      "75.00% ada pada training set\n",
      "25.00% ada pada test set\n"
     ]
    }
   ],
   "source": [
    "print(\"{0:0.2f}% ada pada training set\". format((len(X_train)/len(df.index)) * 100))\n",
    "print(\"{0:0.2f}% ada pada test set\". format((len(X_test)/len(df.index)) * 100))"
   ]
  },
  {
   "cell_type": "markdown",
   "id": "8f5a2852",
   "metadata": {},
   "source": [
    "#### Scale Data"
   ]
  },
  {
   "cell_type": "code",
   "execution_count": 47,
   "id": "42ee69c1",
   "metadata": {},
   "outputs": [],
   "source": [
    "scaler = StandardScaler()\n",
    "\n",
    "X_train_scaled = scaler.fit_transform(X_train)\n",
    "X_test_scaled = scaler.transform(X_test)"
   ]
  },
  {
   "cell_type": "markdown",
   "id": "c704061f",
   "metadata": {},
   "source": [
    "## 1. Logistic Regression"
   ]
  },
  {
   "cell_type": "code",
   "execution_count": 51,
   "id": "404f6dfb",
   "metadata": {},
   "outputs": [
    {
     "name": "stdout",
     "output_type": "stream",
     "text": [
      "Accuracy: 90.65%\n",
      "\n",
      "Confusion Matrix:\n",
      " [[8954  198]\n",
      " [ 764  378]]\n",
      "\n",
      "Classification Report:\n",
      "               precision    recall  f1-score   support\n",
      "\n",
      "           0       0.92      0.98      0.95      9152\n",
      "           1       0.66      0.33      0.44      1142\n",
      "\n",
      "    accuracy                           0.91     10294\n",
      "   macro avg       0.79      0.65      0.69     10294\n",
      "weighted avg       0.89      0.91      0.89     10294\n",
      "\n"
     ]
    }
   ],
   "source": [
    "# Create a logistic regression model\n",
    "logreg_model = LogisticRegression(random_state=11)\n",
    "\n",
    "# Fit the model to the training data\n",
    "logreg_model.fit(X_train_scaled, y_train)\n",
    "\n",
    "# Make predictions on the test set\n",
    "y_pred = logreg_model.predict(X_test_scaled)\n",
    "\n",
    "# Evaluate the model\n",
    "accuracy = accuracy_score(y_test, y_pred)\n",
    "conf_matrix = confusion_matrix(y_test, y_pred)\n",
    "class_report = classification_report(y_test, y_pred)\n",
    "\n",
    "# Display results\n",
    "print(f\"Accuracy: {accuracy * 100:.2f}%\")\n",
    "print(\"\\nConfusion Matrix:\\n\", conf_matrix)\n",
    "print(\"\\nClassification Report:\\n\", class_report)"
   ]
  },
  {
   "cell_type": "markdown",
   "id": "8f0d1993",
   "metadata": {},
   "source": [
    "Dapat dilihat bahwa,\n",
    "* Akurasi (Accuracy): 90.65%\n",
    "Akurasi mengukur sejauh mana model dapat memprediksi dengan benar. Dalam hal ini, sekitar 90.65% prediksi model benar.\n",
    "\n",
    "* Precision: Menunjukkan seberapa banyak dari kelas yang diprediksi positif oleh model yang benar positif. Precision untuk kelas '1' (berlangganan) adalah 66%, yang mengindikasikan seberapa baik model memprediksi kelas tersebut.\n",
    "\n",
    "* Recall: Menunjukkan seberapa banyak dari total instance yang termasuk dalam kelas yang diprediksi positif oleh model. Recall untuk kelas '1' adalah 33%, menunjukkan bahwa model tidak sebaik yang diharapkan dalam mengidentifikasi klien yang benar-benar berlangganan.\n",
    "\n",
    "* F1-score: Menggabungkan precision dan recall menjadi satu nilai, di mana nilai tertinggi adalah 1. F1-score untuk kelas '1' adalah 0.44.\n",
    "\n",
    "* Support: Jumlah instance yang termasuk dalam setiap kelas."
   ]
  },
  {
   "cell_type": "markdown",
   "id": "2a76ba9a",
   "metadata": {},
   "source": [
    "#### Visualisasi Confusion Matrix"
   ]
  },
  {
   "cell_type": "code",
   "execution_count": 71,
   "id": "2ac83c48",
   "metadata": {},
   "outputs": [
    {
     "name": "stdout",
     "output_type": "stream",
     "text": [
      "\n",
      "Confusion Matrix:\n",
      " [[8954  198]\n",
      " [ 764  378]]\n"
     ]
    },
    {
     "data": {
      "image/png": "[encoded data removed]",
      "text/plain": [
       "<Figure size 800x600 with 1 Axes>"
      ]
     },
     "metadata": {},
     "output_type": "display_data"
    }
   ],
   "source": [
    "# Membuat Confusion Matrix\n",
    "cm = confusion_matrix(y_test, y_pred)\n",
    "\n",
    "# Membuat heatmap\n",
    "plt.figure(figsize=(8, 6))\n",
    "sns.heatmap(cm, annot=True, fmt='d', cmap='Blues', linewidths=.5, cbar=False)\n",
    "\n",
    "print(\"\\nConfusion Matrix:\\n\", conf_matrix)\n",
    "\n",
    "# Menambahkan label dan judul\n",
    "plt.title('Confusion Matrix')\n",
    "plt.xlabel('Predicted')\n",
    "plt.ylabel('Actual')\n",
    "\n",
    "# Menampilkan plot\n",
    "plt.show()"
   ]
  },
  {
   "cell_type": "markdown",
   "id": "66d30ac8",
   "metadata": {},
   "source": [
    "* True Positive (TP): 378 (klien yang berlangganan dan diprediksi dengan benar)\n",
    "* True Negative (TN): 8954 (klien yang tidak berlangganan dan diprediksi dengan benar)\n",
    "* False Positive (FP): 198 (klien yang tidak berlangganan, tetapi diprediksi berlangganan)\n",
    "* False Negative (FN): 764 (klien yang berlangganan, tetapi diprediksi tidak berlangganan)\n",
    "\n",
    "#### Kesimpulan\n",
    "\n",
    "1. Model memiliki akurasi yang cukup tinggi, yaitu sekitar 90.65%.\n",
    "2.  Model cenderung lebih baik dalam memprediksi klien yang tidak berlangganan (kelas '0') dibandingkan dengan yang berlangganan (kelas '1').\n",
    "3. Recall untuk kelas '1' (berlangganan) rendah, menunjukkan bahwa model kurang efektif dalam mengidentifikasi klien yang sebenarnya berlangganan."
   ]
  },
  {
   "cell_type": "markdown",
   "id": "b11a92ec",
   "metadata": {},
   "source": [
    "## 2. KNN (K-Nearest Neighbors)"
   ]
  },
  {
   "cell_type": "code",
   "execution_count": 69,
   "id": "090759a4",
   "metadata": {},
   "outputs": [
    {
     "name": "stdout",
     "output_type": "stream",
     "text": [
      "Accuracy (KNN): 90.00%\n",
      "\n",
      "Confusion Matrix (KNN):\n",
      " [[8855  297]\n",
      " [ 732  410]]\n",
      "\n",
      "Classification Report (KNN):\n",
      "               precision    recall  f1-score   support\n",
      "\n",
      "           0       0.92      0.97      0.95      9152\n",
      "           1       0.58      0.36      0.44      1142\n",
      "\n",
      "    accuracy                           0.90     10294\n",
      "   macro avg       0.75      0.66      0.69     10294\n",
      "weighted avg       0.89      0.90      0.89     10294\n",
      "\n"
     ]
    }
   ],
   "source": [
    "# Buat model KNN dengan jumlah tetangga (n_neighbors) tertentu\n",
    "knn_model = KNeighborsClassifier(n_neighbors=5)\n",
    "\n",
    "# Latih model menggunakan data pelatihan yang telah di-scaled\n",
    "knn_model.fit(X_train_scaled, y_train)\n",
    "\n",
    "# Lakukan prediksi pada set data uji\n",
    "y_pred_knn = knn_model.predict(X_test_scaled)\n",
    "\n",
    "# Evaluasi model KNN\n",
    "accuracy_knn = accuracy_score(y_test, y_pred_knn)\n",
    "conf_matrix_knn = confusion_matrix(y_test, y_pred_knn)\n",
    "class_report_knn = classification_report(y_test, y_pred_knn)\n",
    "\n",
    "# Tampilkan hasil evaluasi\n",
    "print(f\"Accuracy (KNN): {accuracy_knn * 100:.2f}%\")\n",
    "print(\"\\nConfusion Matrix (KNN):\\n\", conf_matrix_knn)\n",
    "print(\"\\nClassification Report (KNN):\\n\", class_report_knn)"
   ]
  },
  {
   "cell_type": "markdown",
   "id": "da4be750",
   "metadata": {},
   "source": [
    "Terlihat bahwa,\n",
    "1. Akurasi (Accuracy) KNN: 90.00%.\n",
    "Akurasi mengukur sejauh mana model KNN dapat memprediksi dengan benar. Dalam hal ini, sekitar 90.00% prediksi model benar.\n",
    "2. Precision: 58% untuk kelas '1' (berlangganan), yang mengindikasikan seberapa baik model KNN memprediksi kelas tersebut.\n",
    "3. Recall: 36% untuk kelas '1', menunjukkan bahwa model KNN kurang efektif dalam mengidentifikasi klien yang sebenarnya berlangganan.\n",
    "4. F1-score: 44% untuk kelas '1'."
   ]
  },
  {
   "cell_type": "markdown",
   "id": "82473f81",
   "metadata": {},
   "source": [
    "#### Visualisasi Confussion Matrix"
   ]
  },
  {
   "cell_type": "code",
   "execution_count": 70,
   "id": "b2e20ab7",
   "metadata": {},
   "outputs": [
    {
     "name": "stdout",
     "output_type": "stream",
     "text": [
      "\n",
      "Confusion Matrix (KNN):\n",
      " [[8855  297]\n",
      " [ 732  410]]\n"
     ]
    },
    {
     "data": {
      "image/png": "[encoded data removed]",
      "text/plain": [
       "<Figure size 800x600 with 1 Axes>"
      ]
     },
     "metadata": {},
     "output_type": "display_data"
    }
   ],
   "source": [
    "# Membuat Confusion Matrix untuk KNN\n",
    "cm_knn = confusion_matrix(y_test, y_pred_knn)\n",
    "\n",
    "# Menentukan palet warna untuk membedakan kategori\n",
    "cmap_colors_knn = sns.color_palette(\"pastel\", as_cmap=True)\n",
    "\n",
    "# Membuat heatmap dengan warna yang berbeda untuk masing-masing kategori\n",
    "plt.figure(figsize=(8, 6))\n",
    "sns.heatmap(cm_knn, annot=True, fmt='d', cmap=cmap_colors_knn, linewidths=.5, cbar=False)\n",
    "\n",
    "print(\"\\nConfusion Matrix (KNN):\\n\", conf_matrix_knn)\n",
    "\n",
    "# Menambahkan label dan judul\n",
    "plt.title('Confusion Matrix (KNN)')\n",
    "plt.xlabel('Predicted')\n",
    "plt.ylabel('Actual')\n",
    "\n",
    "# Menampilkan plot\n",
    "plt.show()"
   ]
  },
  {
   "cell_type": "markdown",
   "id": "c06540db",
   "metadata": {},
   "source": [
    "1. True Positive (TP): Ada 410 kasus di mana model KNN dengan benar memprediksi bahwa klien berlangganan.\n",
    "\n",
    "2. True Negative (TN): Ada 8855 kasus di mana model KNN dengan benar memprediksi bahwa klien tidak berlangganan.\n",
    "\n",
    "3. False Positive (FP): Ada 297 kasus di mana model KNN keliru memprediksi bahwa klien berlangganan, padahal sebenarnya tidak.\n",
    "\n",
    "4. False Negative (FN): Ada 732 kasus di mana model KNN keliru memprediksi bahwa klien tidak berlangganan, padahal sebenarnya berlangganan."
   ]
  },
  {
   "cell_type": "markdown",
   "id": "38ea5c85",
   "metadata": {},
   "source": [
    "#### Kesimpulan\n",
    "\n",
    "1. Model KNN memiliki akurasi sekitar 90.00%, mirip dengan model regresi logistik.\n",
    "2. Seperti pada model regresi logistik, recall untuk kelas '1' (berlangganan) masih rendah, menunjukkan bahwa model kurang efektif dalam mengidentifikasi klien yang sebenarnya berlangganan.\n",
    "3. Meskipun akurasi tinggi, perlu diperhatikan bahwa model ini juga menghadapi tantangan ketidakseimbangan kelas yang signifikan."
   ]
  },
  {
   "cell_type": "markdown",
   "id": "7507b862",
   "metadata": {},
   "source": [
    "## 3. SVM (Support Vector Machine)"
   ]
  },
  {
   "cell_type": "code",
   "execution_count": 65,
   "id": "907dd031",
   "metadata": {},
   "outputs": [
    {
     "name": "stdout",
     "output_type": "stream",
     "text": [
      "Accuracy (SVM): 89.95%\n",
      "\n",
      "Confusion Matrix (SVM):\n",
      " [[9022  130]\n",
      " [ 905  237]]\n",
      "\n",
      "Classification Report (SVM):\n",
      "               precision    recall  f1-score   support\n",
      "\n",
      "           0       0.91      0.99      0.95      9152\n",
      "           1       0.65      0.21      0.31      1142\n",
      "\n",
      "    accuracy                           0.90     10294\n",
      "   macro avg       0.78      0.60      0.63     10294\n",
      "weighted avg       0.88      0.90      0.88     10294\n",
      "\n"
     ]
    }
   ],
   "source": [
    "# Buat model SVM\n",
    "svm_model = SVC(kernel='linear', random_state=11)\n",
    "\n",
    "# Latih model menggunakan data pelatihan yang telah di-scaled\n",
    "svm_model.fit(X_train_scaled, y_train)\n",
    "\n",
    "# Lakukan prediksi pada set data uji\n",
    "y_pred_svm = svm_model.predict(X_test_scaled)\n",
    "\n",
    "# Evaluasi model SVM\n",
    "accuracy_svm = accuracy_score(y_test, y_pred_svm)\n",
    "conf_matrix_svm = confusion_matrix(y_test, y_pred_svm)\n",
    "class_report_svm = classification_report(y_test, y_pred_svm)\n",
    "\n",
    "# Tampilkan hasil evaluasi\n",
    "print(f\"Accuracy (SVM): {accuracy_svm * 100:.2f}%\")\n",
    "print(\"\\nConfusion Matrix (SVM):\\n\", conf_matrix_svm)\n",
    "print(\"\\nClassification Report (SVM):\\n\", class_report_svm)"
   ]
  },
  {
   "cell_type": "markdown",
   "id": "9bc5ce19",
   "metadata": {},
   "source": [
    "Terlihat bahwa,\n",
    "- Akurasi (Accuracy): 89.95%\n",
    "Model SVM memiliki akurasi sekitar 89.95%, yang berarti sekitar 89.95% dari semua prediksi yang dilakukan oleh model adalah benar.\n",
    "- Precision (untuk kelas '1' - berlangganan): 65%\n",
    "Precision mengukur seberapa banyak dari prediksi kelas '1' yang sebenarnya benar. Dalam konteks ini, sekitar 65% dari prediksi bahwa klien akan berlangganan adalah benar.\n",
    "Recall (untuk kelas '1' - berlangganan): 21%\n",
    "\n",
    "- Recall (sensitivitas) mengukur seberapa baik model mengidentifikasi keseluruhan kelas '1'. Dalam hal ini, sekitar 21% dari keseluruhan klien yang sebenarnya berlangganan berhasil diidentifikasi oleh model.\n",
    "- F1-score (untuk kelas '1' - berlangganan): 31%\n",
    "\n",
    "F1-score adalah harmonic mean dari precision dan recall. Dalam hal ini, F1-score untuk kelas '1' adalah sekitar 31%."
   ]
  },
  {
   "cell_type": "markdown",
   "id": "744b336e",
   "metadata": {},
   "source": [
    "#### Visualisasi Confusion Matrix"
   ]
  },
  {
   "cell_type": "code",
   "execution_count": 83,
   "id": "ec372df4",
   "metadata": {},
   "outputs": [
    {
     "name": "stdout",
     "output_type": "stream",
     "text": [
      "\n",
      "Confusion Matrix (SVM):\n",
      " [[9022  130]\n",
      " [ 905  237]]\n"
     ]
    },
    {
     "data": {
      "image/png": "[encoded data removed]",
      "text/plain": [
       "<Figure size 800x600 with 1 Axes>"
      ]
     },
     "metadata": {},
     "output_type": "display_data"
    }
   ],
   "source": [
    "# Membuat Confusion Matrix untuk SVM\n",
    "cm_svm = confusion_matrix(y_test, y_pred_svm)\n",
    "\n",
    "# Menentukan palet warna untuk membedakan kategori\n",
    "cmap_colors_svm = sns.light_palette(\"navy\", as_cmap=True)\n",
    "\n",
    "# Membuat heatmap dengan warna yang berbeda untuk masing-masing kategori\n",
    "plt.figure(figsize=(8, 6))\n",
    "sns.heatmap(cm_svm, annot=True, fmt='d', cmap=cmap_colors_svm, linewidths=.5, cbar=False)\n",
    "\n",
    "print(\"\\nConfusion Matrix (SVM):\\n\", conf_matrix_svm)\n",
    "\n",
    "# Menambahkan label dan judul\n",
    "plt.title('Confusion Matrix (SVM)')\n",
    "plt.xlabel('Predicted')\n",
    "plt.ylabel('Actual')\n",
    "\n",
    "# Menampilkan plot\n",
    "plt.show()"
   ]
  },
  {
   "cell_type": "markdown",
   "id": "4975a96e",
   "metadata": {},
   "source": [
    "Terlihat bahwa,\n",
    "- True Positive (TP): Model SVM dengan benar memprediksi bahwa 237 klien berlangganan.\n",
    "- True Negative (TN): Model SVM dengan benar memprediksi bahwa 9022 klien tidak berlangganan.\n",
    "- False Positive (FP): Model SVM keliru memprediksi bahwa 130 klien berlangganan, padahal sebenarnya tidak.\n",
    "- False Negative (FN): Model SVM keliru memprediksi bahwa 905 klien tidak berlangganan, padahal sebenarnya berlangganan.\n",
    "\n",
    "#### Kesimpulan\n",
    "\n",
    "1. Model SVM cenderung lebih baik dalam memprediksi kelas '0' (tidak berlangganan), ditunjukkan oleh TN yang tinggi.\n",
    "2. Recall untuk kelas '1' (berlangganan) masih rendah, menunjukkan bahwa model SVM kurang efektif dalam mengidentifikasi klien yang sebenarnya berlangganan.\n",
    "3. Jumlah FN yang tinggi menunjukkan bahwa model kehilangan sejumlah besar klien berlangganan."
   ]
  },
  {
   "cell_type": "markdown",
   "id": "d72e44f9",
   "metadata": {},
   "source": [
    "## 4. Decision Tree"
   ]
  },
  {
   "cell_type": "code",
   "execution_count": 79,
   "id": "0bdacdf9",
   "metadata": {},
   "outputs": [
    {
     "name": "stdout",
     "output_type": "stream",
     "text": [
      "Accuracy (Decision Tree): 88.64%\n",
      "\n",
      "Confusion Matrix (Decision Tree):\n",
      " [[8523  629]\n",
      " [ 540  602]]\n",
      "\n",
      "Classification Report (Decision Tree):\n",
      "               precision    recall  f1-score   support\n",
      "\n",
      "           0       0.94      0.93      0.94      9152\n",
      "           1       0.49      0.53      0.51      1142\n",
      "\n",
      "    accuracy                           0.89     10294\n",
      "   macro avg       0.71      0.73      0.72     10294\n",
      "weighted avg       0.89      0.89      0.89     10294\n",
      "\n"
     ]
    }
   ],
   "source": [
    "# Buat model Decision Tree\n",
    "dt_model = DecisionTreeClassifier(random_state=11)\n",
    "\n",
    "# Latih model menggunakan data pelatihan yang telah di-scaled\n",
    "dt_model.fit(X_train_scaled, y_train)\n",
    "\n",
    "# Lakukan prediksi pada set data uji\n",
    "y_pred_dt = dt_model.predict(X_test_scaled)\n",
    "\n",
    "# Evaluasi model Decision Tree\n",
    "accuracy_dt = accuracy_score(y_test, y_pred_dt)\n",
    "conf_matrix_dt = confusion_matrix(y_test, y_pred_dt)\n",
    "class_report_dt = classification_report(y_test, y_pred_dt)\n",
    "\n",
    "# Tampilkan hasil evaluasi\n",
    "print(f\"Accuracy (Decision Tree): {accuracy_dt * 100:.2f}%\")\n",
    "print(\"\\nConfusion Matrix (Decision Tree):\\n\", conf_matrix_dt)\n",
    "print(\"\\nClassification Report (Decision Tree):\\n\", class_report_dt)"
   ]
  },
  {
   "cell_type": "markdown",
   "id": "94d4584d",
   "metadata": {},
   "source": [
    "Terlihat bahwa,\n",
    "\n",
    "- Akurasi (Accuracy): 88.64%\n",
    "Model Decision Tree memiliki akurasi sekitar 88.64%, yang berarti sekitar 88.64% dari semua prediksi yang dilakukan oleh model adalah benar.\n",
    "\n",
    "- Precision (untuk kelas '1' - berlangganan): 49%\n",
    "Precision mengukur seberapa banyak dari prediksi kelas '1' yang sebenarnya benar. Dalam konteks ini, sekitar 49% dari prediksi bahwa klien akan berlangganan adalah benar.\n",
    "\n",
    "- Recall (untuk kelas '1' - berlangganan): 53%\n",
    "Recall (sensitivitas) mengukur seberapa baik model mengidentifikasi keseluruhan kelas '1'. Dalam hal ini, sekitar 53% dari keseluruhan klien yang sebenarnya berlangganan berhasil diidentifikasi oleh model.\n",
    "\n",
    "- F1-score (untuk kelas '1' - berlangganan): 51%\n",
    "F1-score adalah harmonic mean dari precision dan recall. Dalam hal ini, F1-score untuk kelas '1' adalah sekitar 51%."
   ]
  },
  {
   "cell_type": "markdown",
   "id": "89715817",
   "metadata": {},
   "source": [
    "#### Visualisasi Confusion Matrix"
   ]
  },
  {
   "cell_type": "code",
   "execution_count": 82,
   "id": "dd2ff48d",
   "metadata": {},
   "outputs": [
    {
     "name": "stdout",
     "output_type": "stream",
     "text": [
      "\n",
      "Confusion Matrix (Decision Tree):\n",
      " [[8523  629]\n",
      " [ 540  602]]\n"
     ]
    },
    {
     "data": {
      "image/png": "[encoded data removed]",
      "text/plain": [
       "<Figure size 800x600 with 1 Axes>"
      ]
     },
     "metadata": {},
     "output_type": "display_data"
    }
   ],
   "source": [
    "# Membuat Confusion Matrix untuk Decision Tree\n",
    "cm_dt = confusion_matrix(y_test, y_pred_dt)\n",
    "\n",
    "# Menentukan palet warna untuk membedakan kategori\n",
    "cmap_colors_dt = sns.color_palette(\"magma\", as_cmap=True)\n",
    "\n",
    "# Membuat heatmap dengan warna yang berbeda untuk masing-masing kategori\n",
    "plt.figure(figsize=(8, 6))\n",
    "sns.heatmap(cm_dt, annot=True, fmt='d', cmap=cmap_colors_dt, linewidths=.5, cbar=False)\n",
    "\n",
    "print(\"\\nConfusion Matrix (Decision Tree):\\n\", conf_matrix_dt)\n",
    "\n",
    "# Menambahkan label dan judul\n",
    "plt.title('Confusion Matrix (Decision Tree)')\n",
    "plt.xlabel('Predicted')\n",
    "plt.ylabel('Actual')\n",
    "\n",
    "# Menampilkan plot\n",
    "plt.show()"
   ]
  },
  {
   "cell_type": "markdown",
   "id": "71591b50",
   "metadata": {},
   "source": [
    "Terlihat bahwa,\n",
    "- True Positive (TP): Model dengan benar memprediksi bahwa 602 klien berlangganan.\n",
    "- True Negative (TN): Model dengan benar memprediksi bahwa 8523 klien tidak berlangganan.\n",
    "- False Positive (FP): Model keliru memprediksi bahwa 629 klien berlangganan, padahal sebenarnya tidak.\n",
    "- False Negative (FN): Model keliru memprediksi bahwa 540 klien tidak berlangganan, padahal sebenarnya berlangganan.\n",
    "\n",
    "#### Kesimpulan\n",
    "1. Akurasi Model:\n",
    "Model Decision Tree memiliki akurasi sekitar 88.64%, yang berarti sekitar 88.64% dari semua prediksi yang dilakukan oleh model adalah benar. \n",
    "\n",
    "2. Ketidakseimbangan Kelas:\n",
    "Terdapat ketidakseimbangan antara kelas '0' (tidak berlangganan) dan kelas '1' (berlangganan). Hal ini dapat dilihat dari distribusi variabel target yang menunjukkan bahwa jumlah klien yang tidak berlangganan jauh lebih banyak dibandingkan dengan yang berlangganan. Ketidakseimbangan ini dapat mempengaruhi performa model, terutama pada pengukuran seperti recall.\n",
    "\n",
    "3. Performa Model terhadap Kelas '1' (Berlangganan):\n",
    "Recall untuk kelas '1' (berlangganan) masih relatif rendah, kisaran 53%. Ini berarti model masih kesulitan mengidentifikasi dengan baik klien yang sebenarnya berlangganan. \n",
    "\n",
    "4. Performa Model terhadap Kelas '0' (Tidak Berlangganan):\n",
    "Model memiliki performa yang baik dalam memprediksi kelas '0' (tidak berlangganan), ditunjukkan oleh tingginya True Negative (TN). "
   ]
  },
  {
   "cell_type": "markdown",
   "id": "4fe94f70",
   "metadata": {},
   "source": [
    "## 5. Random Forest"
   ]
  },
  {
   "cell_type": "code",
   "execution_count": 85,
   "id": "818a891d",
   "metadata": {},
   "outputs": [
    {
     "name": "stdout",
     "output_type": "stream",
     "text": [
      "Accuracy (Random Forest): 91.10%\n",
      "\n",
      "Confusion Matrix (Random Forest):\n",
      " [[8874  278]\n",
      " [ 638  504]]\n",
      "\n",
      "Classification Report (Random Forest):\n",
      "               precision    recall  f1-score   support\n",
      "\n",
      "           0       0.93      0.97      0.95      9152\n",
      "           1       0.64      0.44      0.52      1142\n",
      "\n",
      "    accuracy                           0.91     10294\n",
      "   macro avg       0.79      0.71      0.74     10294\n",
      "weighted avg       0.90      0.91      0.90     10294\n",
      "\n"
     ]
    }
   ],
   "source": [
    "# Inisialisasi model Random Forest\n",
    "rf_model = RandomForestClassifier(random_state=11)\n",
    "\n",
    "# Melatih model pada data training\n",
    "rf_model.fit(X_train_scaled, y_train)\n",
    "\n",
    "# Membuat prediksi pada data test\n",
    "y_pred_rf = rf_model.predict(X_test_scaled)\n",
    "\n",
    "# Evaluasi performa model\n",
    "accuracy_rf = accuracy_score(y_test, y_pred_rf)\n",
    "conf_matrix_rf = confusion_matrix(y_test, y_pred_rf)\n",
    "classification_report_rf = classification_report(y_test, y_pred_rf)\n",
    "\n",
    "# Menampilkan hasil evaluasi\n",
    "print(f\"Accuracy (Random Forest): {accuracy_rf:.2%}\\n\")\n",
    "print(f\"Confusion Matrix (Random Forest):\\n {conf_matrix_rf}\\n\")\n",
    "print(f\"Classification Report (Random Forest):\\n {classification_report_rf}\")"
   ]
  },
  {
   "cell_type": "markdown",
   "id": "8b864665",
   "metadata": {},
   "source": [
    "Terlihat bahwa,\n",
    "1. Akurasi Model:\n",
    "    - Model Random Forest memberikan akurasi sekitar 91.10%, menunjukkan bahwa sekitar 91.10% dari semua prediksi yang dilakukan oleh model adalah benar.\n",
    "\n",
    "2. Performa terhadap Kelas '1' (Berlangganan):\n",
    "    - Precision untuk kelas '1' (berlangganan) meningkat menjadi sekitar 64%, menunjukkan bahwa model Random Forest lebih baik dalam memprediksi dengan benar klien yang sebenarnya berlangganan dibandingkan dengan Decision Tree.\n",
    "    - Recall untuk kelas '1' juga meningkat menjadi sekitar 44%, menunjukkan bahwa model ini lebih baik dalam mengidentifikasi klien yang sebenarnya berlangganan daripada Decision Tree.\n",
    "    \n",
    "3. F1-score dan Precision-Recall Trade-off:\n",
    "    - F1-score untuk kelas '1' meningkat menjadi sekitar 52%, menunjukkan adanya peningkatan dalam keseimbangan antara precision dan recall.\n",
    "    - Perlu diingat bahwa terdapat trade-off antara precision dan recall, dan penyesuaian parameter dapat dilakukan untuk memperbaiki keseimbangan ini sesuai kebutuhan bisnis.\n",
    "    \n",
    "#### Visualisasi Confusion Matrix"
   ]
  },
  {
   "cell_type": "code",
   "execution_count": 87,
   "id": "641d75e6",
   "metadata": {},
   "outputs": [
    {
     "name": "stdout",
     "output_type": "stream",
     "text": [
      "Confusion Matrix (Random Forest):\n",
      " [[8874  278]\n",
      " [ 638  504]]\n",
      "\n"
     ]
    },
    {
     "data": {
      "image/png": "[encoded data removed]",
      "text/plain": [
       "<Figure size 800x600 with 1 Axes>"
      ]
     },
     "metadata": {},
     "output_type": "display_data"
    }
   ],
   "source": [
    "# Membuat Confusion Matrix untuk Random Forest\n",
    "cm_rf = confusion_matrix(y_test, y_pred_rf)\n",
    "\n",
    "# Menentukan palet warna untuk membedakan kategori\n",
    "cmap_colors_rf = sns.color_palette(\"rocket_r\", as_cmap=True)\n",
    "\n",
    "# Membuat heatmap dengan warna yang berbeda untuk masing-masing kategori\n",
    "plt.figure(figsize=(8, 6))\n",
    "sns.heatmap(cm_rf, annot=True, fmt='d', cmap=cmap_colors_rf, linewidths=.5, cbar=False)\n",
    "\n",
    "print(f\"Confusion Matrix (Random Forest):\\n {conf_matrix_rf}\\n\")\n",
    "\n",
    "# Menambahkan label dan judul\n",
    "plt.title('Confusion Matrix (Random Forest)')\n",
    "plt.xlabel('Predicted')\n",
    "plt.ylabel('Actual')\n",
    "\n",
    "# Menampilkan plot\n",
    "plt.show()"
   ]
  },
  {
   "cell_type": "markdown",
   "id": "3728a3c1",
   "metadata": {},
   "source": [
    "Terlihat bahwa,\n",
    "- True Positive (TP): Ada 504 klien yang sebenarnya berlangganan dan diprediksi dengan benar oleh model Random Forest.\n",
    "- True Negative (TN): Ada 8874 klien yang sebenarnya tidak berlangganan dan diprediksi dengan benar oleh model Random Forest.\n",
    "- False Positive (FP): Ada 278 klien yang sebenarnya tidak berlangganan, tetapi model Random Forest keliru memprediksi bahwa mereka berlangganan.\n",
    "- False Negative (FN): Ada 638 klien yang sebenarnya berlangganan, tetapi model Random Forest keliru memprediksi bahwa mereka tidak berlangganan.\n",
    "\n",
    "#### Kesimpulan\n",
    "\n",
    "1. Model Random Forest cenderung memberikan lebih banyak False Negatives (FN) dibandingkan dengan False Positives (FP), yang berarti model lebih cenderung melewatkan klien yang sebenarnya berlangganan daripada membuat prediksi positif palsu.\n",
    "2. Peningkatan recall (44%) dibandingkan dengan Decision Tree menunjukkan bahwa Random Forest lebih baik dalam mengidentifikasi klien yang sebenarnya berlangganan.\n",
    "3. Model Random Forest memberikan performa yang lebih baik dibandingkan dengan Decision Tree, terutama dalam mengidentifikasi klien yang sebenarnya berlangganan."
   ]
  },
  {
   "cell_type": "markdown",
   "id": "4c2ae756",
   "metadata": {},
   "source": [
    "## 6. Naive Bayes"
   ]
  },
  {
   "cell_type": "code",
   "execution_count": 90,
   "id": "e2a708d7",
   "metadata": {},
   "outputs": [
    {
     "name": "stdout",
     "output_type": "stream",
     "text": [
      "Accuracy (Naive Bayes): 87.53%\n",
      "\n",
      "Confusion Matrix (Naive Bayes):\n",
      " [[8491  661]\n",
      " [ 623  519]]\n",
      "\n",
      "Classification Report (Naive Bayes):\n",
      "               precision    recall  f1-score   support\n",
      "\n",
      "           0       0.93      0.93      0.93      9152\n",
      "           1       0.44      0.45      0.45      1142\n",
      "\n",
      "    accuracy                           0.88     10294\n",
      "   macro avg       0.69      0.69      0.69     10294\n",
      "weighted avg       0.88      0.88      0.88     10294\n",
      "\n"
     ]
    }
   ],
   "source": [
    "# Inisialisasi model Naive Bayes\n",
    "nb_model = GaussianNB()\n",
    "\n",
    "# Melatih model pada data training\n",
    "nb_model.fit(X_train_scaled, y_train)\n",
    "\n",
    "# Membuat prediksi pada data test\n",
    "y_pred_nb = nb_model.predict(X_test_scaled)\n",
    "\n",
    "# Evaluasi performa model\n",
    "accuracy_nb = accuracy_score(y_test, y_pred_nb)\n",
    "conf_matrix_nb = confusion_matrix(y_test, y_pred_nb)\n",
    "classification_report_nb = classification_report(y_test, y_pred_nb)\n",
    "\n",
    "# Menampilkan hasil evaluasi\n",
    "print(f\"Accuracy (Naive Bayes): {accuracy_nb:.2%}\\n\")\n",
    "print(f\"Confusion Matrix (Naive Bayes):\\n {conf_matrix_nb}\\n\")\n",
    "print(f\"Classification Report (Naive Bayes):\\n {classification_report_nb}\")"
   ]
  },
  {
   "cell_type": "markdown",
   "id": "a85e131f",
   "metadata": {},
   "source": [
    "Terlihat bahwa, \n",
    "1. Akurasi Model:\n",
    "    - Model Naive Bayes memberikan akurasi sekitar 87.53%, menunjukkan bahwa sekitar 87.53% dari semua prediksi yang dilakukan oleh model adalah benar.\n",
    "\n",
    "2. Performa terhadap Kelas '1' (Berlangganan):\n",
    "    - Precision untuk kelas '1' (berlangganan) sekitar 44%, menunjukkan bahwa model Naive Bayes kurang efektif dalam memprediksi dengan benar klien yang sebenarnya berlangganan.\n",
    "    - Recall untuk kelas '1' sekitar 45%, menunjukkan bahwa model ini cukup baik dalam mengidentifikasi klien yang sebenarnya berlangganan dibandingkan dengan Decision Tree.\n",
    "\n",
    "3. F1-score dan Precision-Recall Trade-off:\n",
    "    - F1-score untuk kelas '1' sekitar 45%, menunjukkan performa yang cukup baik dalam menjaga keseimbangan antara precision dan recall.\n",
    "    \n",
    "#### Visualisasi Confusion Matrix"
   ]
  },
  {
   "cell_type": "code",
   "execution_count": 92,
   "id": "aea02510",
   "metadata": {},
   "outputs": [
    {
     "name": "stdout",
     "output_type": "stream",
     "text": [
      "Confusion Matrix (Naive Bayes):\n",
      " [[8491  661]\n",
      " [ 623  519]]\n",
      "\n"
     ]
    },
    {
     "data": {
      "image/png": "[encoded data removed]",
      "text/plain": [
       "<Figure size 800x600 with 1 Axes>"
      ]
     },
     "metadata": {},
     "output_type": "display_data"
    }
   ],
   "source": [
    "# Membuat Confusion Matrix untuk Naive Bayes\n",
    "cm_nb = confusion_matrix(y_test, y_pred_nb)\n",
    "\n",
    "# Menentukan palet warna untuk membedakan kategori\n",
    "cmap_colors_nb = sns.color_palette(\"crest\", as_cmap=True)\n",
    "\n",
    "# Membuat heatmap dengan warna yang berbeda untuk masing-masing kategori\n",
    "plt.figure(figsize=(8, 6))\n",
    "sns.heatmap(cm_nb, annot=True, fmt='d', cmap=cmap_colors_nb, linewidths=.5, cbar=False)\n",
    "\n",
    "print(f\"Confusion Matrix (Naive Bayes):\\n {conf_matrix_nb}\\n\")\n",
    "\n",
    "# Menambahkan label dan judul\n",
    "plt.title('Confusion Matrix (Naive Bayes)')\n",
    "plt.xlabel('Predicted')\n",
    "plt.ylabel('Actual')\n",
    "\n",
    "# Menampilkan plot\n",
    "plt.show()"
   ]
  },
  {
   "cell_type": "markdown",
   "id": "4c48b36a",
   "metadata": {},
   "source": [
    "Terlihat bahwa,\n",
    "- True Positive (TP): Ada 519 kasus di mana model Naive Bayes dengan benar memprediksi bahwa klien berlangganan.\n",
    "- True Negative (TN): Ada 8491 kasus di mana model Naive Bayes dengan benar memprediksi bahwa klien tidak berlangganan.\n",
    "- False Positive (FP): Ada 661 kasus di mana model Naive Bayes keliru memprediksi bahwa klien berlangganan, padahal sebenarnya tidak.\n",
    "- False Negative (FN): Ada 623 kasus di mana model Naive Bayes keliru memprediksi bahwa klien tidak berlangganan, padahal sebenarnya berlangganan.\n",
    "\n",
    "#### Kesimpulan\n",
    "1. Model Naive Bayes memiliki kecenderungan memberikan lebih banyak False Positives (FP) daripada False Negatives (FN), yang berarti model cenderung membuat prediksi positif palsu lebih sering daripada melewatkan klien yang sebenarnya berlangganan.\n",
    "2. Recall yang rendah (45%) menunjukkan bahwa model kurang efektif dalam mengidentifikasi klien yang sebenarnya berlangganan dibandingkan dengan model Random Forest dan Decision Tree.\n",
    "3. Model Naive Bayes memberikan performa yang cukup baik, terutama dalam mengidentifikasi klien yang sebenarnya berlangganan dibandingkan dengan Decision Tree.\n",
    "4. Sebagai model probabilistik, Naive Bayes cenderung lebih cepat dan membutuhkan jumlah data yang lebih kecil, namun performa dapat bervariasi tergantung pada asumsi independensi fitur."
   ]
  },
  {
   "cell_type": "markdown",
   "id": "f43c4c31",
   "metadata": {},
   "source": [
    "### Comparing Model"
   ]
  },
  {
   "cell_type": "code",
   "execution_count": 121,
   "id": "09ce337f",
   "metadata": {},
   "outputs": [
    {
     "data": {
      "text/html": [
       "<div>\n",
       "<style scoped>\n",
       "    .dataframe tbody tr th:only-of-type {\n",
       "        vertical-align: middle;\n",
       "    }\n",
       "\n",
       "    .dataframe tbody tr th {\n",
       "        vertical-align: top;\n",
       "    }\n",
       "\n",
       "    .dataframe thead th {\n",
       "        text-align: right;\n",
       "    }\n",
       "</style>\n",
       "<table border=\"1\" class=\"dataframe\">\n",
       "  <thead>\n",
       "    <tr style=\"text-align: right;\">\n",
       "      <th></th>\n",
       "      <th>Model</th>\n",
       "      <th>Accuracy</th>\n",
       "      <th>Precision kelas 1</th>\n",
       "      <th>Recall kelas 1</th>\n",
       "      <th>F1-Score kelas 1</th>\n",
       "    </tr>\n",
       "  </thead>\n",
       "  <tbody>\n",
       "    <tr>\n",
       "      <th>0</th>\n",
       "      <td>Logistic Regression</td>\n",
       "      <td>0.906548</td>\n",
       "      <td>0.656250</td>\n",
       "      <td>0.330998</td>\n",
       "      <td>0.440047</td>\n",
       "    </tr>\n",
       "    <tr>\n",
       "      <th>1</th>\n",
       "      <td>K-Nearest Neighbors</td>\n",
       "      <td>0.900039</td>\n",
       "      <td>0.579915</td>\n",
       "      <td>0.359019</td>\n",
       "      <td>0.443483</td>\n",
       "    </tr>\n",
       "    <tr>\n",
       "      <th>2</th>\n",
       "      <td>Support Vector Machine</td>\n",
       "      <td>0.904119</td>\n",
       "      <td>0.654691</td>\n",
       "      <td>0.287215</td>\n",
       "      <td>0.399270</td>\n",
       "    </tr>\n",
       "    <tr>\n",
       "      <th>3</th>\n",
       "      <td>Decision Tree</td>\n",
       "      <td>0.886342</td>\n",
       "      <td>0.488136</td>\n",
       "      <td>0.504378</td>\n",
       "      <td>0.496124</td>\n",
       "    </tr>\n",
       "    <tr>\n",
       "      <th>4</th>\n",
       "      <td>Random Forest</td>\n",
       "      <td>0.911308</td>\n",
       "      <td>0.646983</td>\n",
       "      <td>0.441331</td>\n",
       "      <td>0.524727</td>\n",
       "    </tr>\n",
       "    <tr>\n",
       "      <th>5</th>\n",
       "      <td>Naive Bayes</td>\n",
       "      <td>0.875267</td>\n",
       "      <td>0.439831</td>\n",
       "      <td>0.454466</td>\n",
       "      <td>0.447028</td>\n",
       "    </tr>\n",
       "  </tbody>\n",
       "</table>\n",
       "</div>"
      ],
      "text/plain": [
       "                    Model  Accuracy  Precision kelas 1  Recall kelas 1  \\\n",
       "0     Logistic Regression  0.906548           0.656250        0.330998   \n",
       "1     K-Nearest Neighbors  0.900039           0.579915        0.359019   \n",
       "2  Support Vector Machine  0.904119           0.654691        0.287215   \n",
       "3           Decision Tree  0.886342           0.488136        0.504378   \n",
       "4           Random Forest  0.911308           0.646983        0.441331   \n",
       "5             Naive Bayes  0.875267           0.439831        0.454466   \n",
       "\n",
       "   F1-Score kelas 1  \n",
       "0          0.440047  \n",
       "1          0.443483  \n",
       "2          0.399270  \n",
       "3          0.496124  \n",
       "4          0.524727  \n",
       "5          0.447028  "
      ]
     },
     "execution_count": 121,
     "metadata": {},
     "output_type": "execute_result"
    }
   ],
   "source": [
    "# Membuat DataFrame dari hasil perbandingan\n",
    "df_results = pd.DataFrame(results).T.reset_index()\n",
    "df_results.columns = ['Model', 'Accuracy', 'Precision kelas 1', 'Recall kelas 1', 'F1-Score kelas 1']\n",
    "df_results"
   ]
  },
  {
   "cell_type": "markdown",
   "id": "6bef2c4b",
   "metadata": {},
   "source": [
    "Berdasarkan output di atas yang memuat perbandingan akurasi, precision, recall, dan F1-score untuk kelas '1' (berlangganan) dari setiap model, berikut adalah kesimpulan yang dapat diambil:\n",
    "\n",
    "**1. Logistic Regression:**\n",
    "   - Akurasi: 90.65%\n",
    "   - Precision kelas 1: 65.63%\n",
    "   - Recall kelas 1: 33.10%\n",
    "   - F1-Score kelas 1: 44.00%\n",
    "   - Model ini memiliki akurasi yang baik, namun recall kelas 1 (kemampuan model untuk mengidentifikasi klien yang benar-benar berlangganan) relatif rendah.\n",
    "\n",
    "**2. K-Nearest Neighbors (KNN):**\n",
    "   * Akurasi: 90.00%\n",
    "   * Precision kelas 1: 57.99%\n",
    "   * Recall kelas 1: 35.90%\n",
    "   * F1-Score kelas 1: 44.35%\n",
    "   * Meskipun akurasi cukup tinggi, performa recall kelas 1 masih bisa ditingkatkan.\n",
    "\n",
    "**3. Support Vector Machine (SVM):**\n",
    "   * Akurasi: 90.41%\n",
    "   * Precision kelas 1: 65.47%\n",
    "   * Recall kelas 1: 28.72%\n",
    "   * F1-Score kelas 1: 39.93%\n",
    "   * Model ini memiliki akurasi yang baik, namun recall kelas 1 cukup rendah.\n",
    "\n",
    "**4. Decision Tree:**\n",
    "   * Akurasi: 88.63%\n",
    "   * Precision kelas 1: 48.81%\n",
    "   * Recall kelas 1: 50.44%\n",
    "   * F1-Score kelas 1: 49.61%\n",
    "   * Model ini menunjukkan keseimbangan yang baik antara precision dan recall, meskipun akurasi sedikit lebih rendah.\n",
    "\n",
    "**5. Random Forest:**\n",
    "   * Akurasi: 91.13%\n",
    "   * Precision kelas 1: 64.70%\n",
    "   * Recall kelas 1: 44.13%\n",
    "   * F1-Score kelas 1: 52.47%\n",
    "   * Model ini menunjukkan performa yang baik secara keseluruhan dengan akurasi tertinggi dan F1-Score kelas 1 yang baik.\n",
    "\n",
    "**6. Naive Bayes:**\n",
    "   * Akurasi: 87.53%\n",
    "   * Precision kelas 1: 43.98%\n",
    "   * Recall kelas 1: 45.45%\n",
    "   * F1-Score kelas 1: 44.70%\n",
    "   * Model ini memiliki akurasi yang lebih rendah, namun menunjukkan keseimbangan yang cukup antara precision dan recall."
   ]
  },
  {
   "cell_type": "markdown",
   "id": "f51983c7",
   "metadata": {},
   "source": [
    "## Overall Conclusion\n",
    "\n",
    "**1. Akurasi Keseluruhan:** Random Forest memiliki akurasi tertinggi sekitar 91.13%, menunjukkan kemampuan model ini dalam membuat prediksi yang benar secara umum.\n",
    "\n",
    "**2. Presisi (Precision) Kelas 'Berlangganan':** Logistic Regression memiliki presisi tertinggi untuk kelas 'Berlangganan' sekitar 65.63%, menandakan kemampuan model untuk meminimalkan false positive.\n",
    "\n",
    "**3. Keseimbangan antara Presisi dan Recall:** Random Forest tetap unggul dengan F1-Score kelas 'Berlangganan' sekitar 52.47%, mencerminkan kemampuan model untuk memberikan keseimbangan yang baik antara kemampuan memprediksi kelas positif dan mengurangi kesalahan prediksi.\n",
    "\n",
    "**4. Interpretasi Model:** Jika interpretasi model menjadi prioritas, Logistic Regression atau Decision Tree dapat dipertimbangkan karena kemampuannya memberikan interpretasi terhadap variabel-variabel yang mempengaruhi keputusan.\n",
    "\n",
    "**5. Efisiensi Komputasi dan Kecepatan Prediksi:** Naive Bayes dan Logistic Regression lebih cepat dan memerlukan sumber daya yang lebih sedikit dibandingkan model kompleks seperti Random Forest.\n",
    "\n",
    "**6. Penanganan Data Tidak Seimbang:** Jika terdapat ketidakseimbangan yang signifikan antara kelas 'Berlangganan' dan 'Tidak Berlangganan', model seperti Random Forest atau Support Vector Machine (SVM) dengan teknik penanganan data tidak seimbang dapat memberikan hasil yang lebih baik.\n",
    "\n",
    "**7. Kemudahan Implementasi dan Interpretasi Hasil:** Model yang lebih sederhana seperti Logistic Regression atau Naive Bayes mungkin lebih mudah diimplementasikan dan dipahami."
   ]
  },
  {
   "cell_type": "markdown",
   "id": "6163a8d2",
   "metadata": {},
   "source": [
    "## Algorithm Analysis:\n",
    "\n",
    "Dari keenam model yang telah diuji, Random Forest (91.13%) terpilih sebagai model yang paling baik berdasarkan sejumlah pertimbangan:\n",
    "\n",
    "1. **Akurasi yang Cukup Baik:** Random Forest mencapai akurasi sebesar 91.13%, menunjukkan kemampuannya dalam membuat prediksi yang benar.\n",
    "\n",
    "2. **Keseimbangan Precision dan Recall:** Dengan precision sebesar 64.7% dan recall sebesar 44.1%, Random Forest menunjukkan keseimbangan yang baik antara kemampuan mengidentifikasi kelas positif dan menghindari prediksi yang salah.\n",
    "\n",
    "3. **Pengelolaan Data Tidak Seimbang:** Random Forest terbukti efektif dalam menangani ketidakseimbangan kelas pada dataset, memberikan perhatian yang baik pada kelas minor (berlangganan) tanpa mengorbankan performa secara keseluruhan.\n",
    "\n",
    "4. **Ensemble Learning:** Dengan menggabungkan hasil dari beberapa pohon keputusan, Random Forest dapat mengatasi overfitting dan memberikan prediksi yang lebih stabil.\n",
    "\n",
    "5. **Fleksibilitas:** Model Random Forest dapat menangani berbagai jenis data, termasuk fitur kategorikal, tanpa memerlukan preprocessing yang rumit.\n",
    "\n",
    "6. **Kemampuan Interpretabilitas:** Meskipun bukan model yang paling mudah diinterpretasi, Random Forest masih memberikan wawasan terhadap fitur-fitur yang paling penting dalam membuat prediksi.\n",
    "\n",
    "Berdasarkan pertimbangan di atas, Random Forest menjadi pilihan yang kuat untuk memodelkan data ini. Dengan kombinasi akurasi tinggi, keseimbangan precision dan recall, serta kemampuan mengelola data tidak seimbang, Random Forest memiliki kinerja yang solid untuk kasus ini. "
   ]
  }
 ],
 "metadata": {
  "kernelspec": {
   "display_name": "Python 3 (ipykernel)",
   "language": "python",
   "name": "python3"
  },
  "language_info": {
   "codemirror_mode": {
    "name": "ipython",
    "version": 3
   },
   "file_extension": ".py",
   "mimetype": "text/x-python",
   "name": "python",
   "nbconvert_exporter": "python",
   "pygments_lexer": "ipython3",
   "version": "3.11.4"
  }
 },
 "nbformat": 4,
 "nbformat_minor": 5
}
