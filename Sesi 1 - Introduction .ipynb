{
 "cells": [
  {
   "cell_type": "markdown",
   "id": "d356d426",
   "metadata": {},
   "source": [
    "# SESI 1"
   ]
  },
  {
   "cell_type": "markdown",
   "id": "11930416",
   "metadata": {},
   "source": [
    "## Type Data\n",
    "1. Integer = berbentuk angka\n",
    "2. FLoat = berbentuk bilangan desimal\n",
    "3. Strings = berbentuk huruf\n",
    "4. Boolean = berbentuk True and False"
   ]
  },
  {
   "cell_type": "markdown",
   "id": "20ef6b25",
   "metadata": {},
   "source": [
    "## Variabel"
   ]
  },
  {
   "cell_type": "markdown",
   "id": "11d719c6",
   "metadata": {},
   "source": [
    "## Operators and Expressions "
   ]
  },
  {
   "cell_type": "markdown",
   "id": "6669ab10",
   "metadata": {},
   "source": [
    "### Arithmetic operator"
   ]
  },
  {
   "cell_type": "code",
   "execution_count": 1,
   "id": "1b742dcc",
   "metadata": {},
   "outputs": [
    {
     "name": "stdout",
     "output_type": "stream",
     "text": [
      "7\n",
      "1\n",
      "12\n",
      "1.3333333333333333\n",
      "1\n",
      "64\n"
     ]
    }
   ],
   "source": [
    "# Arithmetic operators\n",
    "\n",
    "a = 4\n",
    "b = 3\n",
    "\n",
    "print(a + b)\n",
    "print(a - b)\n",
    "print(a * b)\n",
    "print(a / b)\n",
    "print(a % b)\n",
    "print(a ** b)"
   ]
  },
  {
   "cell_type": "markdown",
   "id": "73dcd5b3",
   "metadata": {},
   "source": [
    "### Comparisson operators"
   ]
  },
  {
   "cell_type": "code",
   "execution_count": 2,
   "id": "4438dd63",
   "metadata": {},
   "outputs": [
    {
     "name": "stdout",
     "output_type": "stream",
     "text": [
      "False\n",
      "True\n",
      "True\n",
      "False\n"
     ]
    }
   ],
   "source": [
    "# Comparisson Operators\n",
    "\n",
    "a = 10\n",
    "b = 20\n",
    "\n",
    "print(a == b)\n",
    "print(a != b)\n",
    "print(a <= b)\n",
    "print(a >= b)"
   ]
  },
  {
   "cell_type": "markdown",
   "id": "bedba2d5",
   "metadata": {},
   "source": [
    "## String Manipulation"
   ]
  },
  {
   "cell_type": "code",
   "execution_count": 3,
   "id": "1f61c764",
   "metadata": {},
   "outputs": [
    {
     "name": "stdout",
     "output_type": "stream",
     "text": [
      "foobar\n",
      "foobarbaz\n",
      "Hacktiv8 Inalum\n"
     ]
    }
   ],
   "source": [
    "# + Operators\n",
    "\n",
    "s = 'foo'\n",
    "t = 'bar'\n",
    "u = 'baz'\n",
    "\n",
    "print(s + t)\n",
    "print(s + t + u)\n",
    "print('Hacktiv8 ' + 'Inalum')"
   ]
  },
  {
   "cell_type": "code",
   "execution_count": 4,
   "id": "93cbacf2",
   "metadata": {},
   "outputs": [
    {
     "name": "stdout",
     "output_type": "stream",
     "text": [
      "foo.foo.foo.foo.\n"
     ]
    }
   ],
   "source": [
    "# * Operators\n",
    "\n",
    "\n",
    "s = 'foo.'\n",
    "print(s * 4)"
   ]
  },
  {
   "cell_type": "code",
   "execution_count": 5,
   "id": "b053bb9e",
   "metadata": {},
   "outputs": [
    {
     "name": "stdout",
     "output_type": "stream",
     "text": [
      "True\n",
      "False\n"
     ]
    }
   ],
   "source": [
    "# in Operators\n",
    "\n",
    "s = 'foo'\n",
    "\n",
    "print(s in 'That food for us')\n",
    "print(s in 'That good for us')"
   ]
  },
  {
   "cell_type": "code",
   "execution_count": 6,
   "id": "c2b058f9",
   "metadata": {},
   "outputs": [
    {
     "name": "stdout",
     "output_type": "stream",
     "text": [
      "Hacktiv8 inalum\n",
      "hacktiv8 inalum\n",
      "hACKtiv8 InaLUM\n",
      "Hacktiv8 Inalum\n",
      "HACKTIV8 INALUM\n"
     ]
    }
   ],
   "source": [
    "# Case Conversion\n",
    "s = 'HackTIV8 iNAlum'\n",
    "\n",
    "# Capitalize\n",
    "print(s.capitalize())\n",
    "\n",
    "# Lower\n",
    "print(s.lower())\n",
    "\n",
    "# Swapcase\n",
    "print(s.swapcase())\n",
    "\n",
    "# Title\n",
    "print(s.title())\n",
    "\n",
    "# Uppercase\n",
    "print(s.upper())"
   ]
  },
  {
   "cell_type": "markdown",
   "id": "22ec622e",
   "metadata": {},
   "source": [
    "## List\n",
    "a = [...,...]\n",
    "menggunakan kurung siku"
   ]
  },
  {
   "cell_type": "markdown",
   "id": "227d8386",
   "metadata": {},
   "source": [
    "### List are ordered\n",
    "yaitu list yang memiliki elemen yang sama tetapi memiliki urutan yang berbeda"
   ]
  },
  {
   "cell_type": "code",
   "execution_count": 7,
   "id": "64b7785c",
   "metadata": {},
   "outputs": [
    {
     "name": "stdout",
     "output_type": "stream",
     "text": [
      "False\n"
     ]
    }
   ],
   "source": [
    "a = ['foo', 'bar', 'baz', 'qux']\n",
    "b = ['baz', 'qux', 'bar', 'foo']\n",
    "\n",
    "print(a == b)"
   ]
  },
  {
   "cell_type": "markdown",
   "id": "0a80e61b",
   "metadata": {},
   "source": [
    "### List can containt arbitrary objects\n",
    "yaitu lsit yang dapa berisi bermacam-macam object"
   ]
  },
  {
   "cell_type": "code",
   "execution_count": 8,
   "id": "92d514c2",
   "metadata": {},
   "outputs": [
    {
     "name": "stdout",
     "output_type": "stream",
     "text": [
      "[21.42, 'foobar', 3, 4, 'bark', False, 3.14159]\n"
     ]
    }
   ],
   "source": [
    "a = [21.42, 'foobar', 3, 4, 'bark', False, 3.14159]\n",
    "\n",
    "print(a)"
   ]
  },
  {
   "cell_type": "markdown",
   "id": "31de94a0",
   "metadata": {},
   "source": [
    "### List Elements Can Be Accessed by Index\n",
    "yaitu elemen-elemen individual dalam list dapat diakses menggunakan indeks dalam tanda kurung siku"
   ]
  },
  {
   "cell_type": "code",
   "execution_count": 2,
   "id": "a99f07d8",
   "metadata": {},
   "outputs": [
    {
     "name": "stdout",
     "output_type": "stream",
     "text": [
      "apel\n",
      "duren\n"
     ]
    }
   ],
   "source": [
    "buah = [\"jeruk\", \"apel\", \"mangga\", \"duren\"]\n",
    "\n",
    "print(buah[1])\n",
    "print(buah[3])"
   ]
  },
  {
   "cell_type": "code",
   "execution_count": 3,
   "id": "947a548d",
   "metadata": {},
   "outputs": [
    {
     "name": "stdout",
     "output_type": "stream",
     "text": [
      "duren\n",
      "jeruk\n"
     ]
    }
   ],
   "source": [
    "print(buah[-1])\n",
    "print(buah[-4])"
   ]
  },
  {
   "cell_type": "markdown",
   "id": "d3744b1a",
   "metadata": {},
   "source": [
    "slicing juga bisa digunakan dengan print(a[m:n])"
   ]
  },
  {
   "cell_type": "code",
   "execution_count": 5,
   "id": "c702250e",
   "metadata": {},
   "outputs": [
    {
     "name": "stdout",
     "output_type": "stream",
     "text": [
      "['apel', 'mangga']\n"
     ]
    }
   ],
   "source": [
    "buah = [\"jeruk\", \"apel\", \"mangga\", \"duren\"]\n",
    "\n",
    "print(buah[1:3])"
   ]
  },
  {
   "cell_type": "code",
   "execution_count": 7,
   "id": "bc45265c",
   "metadata": {},
   "outputs": [
    {
     "name": "stdout",
     "output_type": "stream",
     "text": [
      "['jeruk', 'apel', 'mangga', 'duren']\n",
      "4\n",
      "apel\n",
      "mangga\n"
     ]
    }
   ],
   "source": [
    "# len(), min(), max()\n",
    "\n",
    "print(buah)\n",
    "print(len(buah))\n",
    "print(min(buah))\n",
    "print(max(buah))"
   ]
  },
  {
   "cell_type": "markdown",
   "id": "19610d14",
   "metadata": {},
   "source": [
    "### Modifying a single list value\n",
    "yaitu satu nilai dalam list dapat diganti dengan pengindeksan dan assignment sederhana"
   ]
  },
  {
   "cell_type": "code",
   "execution_count": 8,
   "id": "e668390e",
   "metadata": {},
   "outputs": [
    {
     "name": "stdout",
     "output_type": "stream",
     "text": [
      "['jeruk', 'apel', 'mangga', 'duren', 'semangka', 'pepaya', 'kelapa']\n",
      "['jeruk', 'apel', 10, 'duren', 'semangka', 'pepaya', 20]\n"
     ]
    }
   ],
   "source": [
    "buah = [\"jeruk\", \"apel\", \"mangga\", \"duren\",\"semangka\",\"pepaya\",\"kelapa\"]\n",
    "\n",
    "print(buah)\n",
    "\n",
    "buah[2] = 10\n",
    "buah[-1] = 20\n",
    "\n",
    "print(buah)"
   ]
  },
  {
   "cell_type": "code",
   "execution_count": 12,
   "id": "1c7604a0",
   "metadata": {},
   "outputs": [
    {
     "name": "stdout",
     "output_type": "stream",
     "text": [
      "['jeruk', 'apel', 'mangga', 'duren', 'semangka', 'pepaya', 'kelapa']\n",
      "['jeruk', 'apel', 'mangga', 'semangka', 'pepaya', 'kelapa']\n"
     ]
    }
   ],
   "source": [
    "# Item dalam list dapat dihapus dengan perintah del:\n",
    "\n",
    "buah = [\"jeruk\", \"apel\", \"mangga\", \"duren\",\"semangka\",\"pepaya\",\"kelapa\"]\n",
    "\n",
    "print(buah)\n",
    "\n",
    "del buah[3]\n",
    "\n",
    "print(buah)"
   ]
  },
  {
   "cell_type": "markdown",
   "id": "eb205d49",
   "metadata": {},
   "source": [
    "### Modifying multiple list values\n",
    "yaitu merubah beberapa element dalam list sekaligus"
   ]
  },
  {
   "cell_type": "code",
   "execution_count": 13,
   "id": "49d299c2",
   "metadata": {},
   "outputs": [
    {
     "name": "stdout",
     "output_type": "stream",
     "text": [
      "['jeruk', 1.1, 2.2, 3.3, 4.4, 5.5, 'semangka', 'pepaya', 'kelapa']\n"
     ]
    }
   ],
   "source": [
    "buah = [\"jeruk\", \"apel\", \"mangga\", \"duren\",\"semangka\",\"pepaya\",\"kelapa\"]\n",
    "\n",
    "buah[1:4] = [1.1, 2.2, 3.3, 4.4, 5.5]\n",
    "\n",
    "print(buah)"
   ]
  },
  {
   "cell_type": "markdown",
   "id": "584ac161",
   "metadata": {},
   "source": [
    "## Tuples\n",
    "a = (... , .....) mmenggunakan kurung biasa"
   ]
  },
  {
   "cell_type": "code",
   "execution_count": 15,
   "id": "854c2cd2",
   "metadata": {},
   "outputs": [
    {
     "name": "stdout",
     "output_type": "stream",
     "text": [
      "('jeruk', 'apel', 'mangga', 'duren', 'semangka', 'pepaya', 'kelapa')\n"
     ]
    }
   ],
   "source": [
    "buah = (\"jeruk\", \"apel\", \"mangga\", \"duren\",\"semangka\",\"pepaya\",\"kelapa\")\n",
    "\n",
    "print(buah)"
   ]
  },
  {
   "cell_type": "markdown",
   "id": "d9339443",
   "metadata": {},
   "source": [
    "mengambil elemen dalam list"
   ]
  },
  {
   "cell_type": "code",
   "execution_count": 16,
   "id": "d4e06479",
   "metadata": {},
   "outputs": [
    {
     "name": "stdout",
     "output_type": "stream",
     "text": [
      "apel\n",
      "semangka\n"
     ]
    }
   ],
   "source": [
    "buah = (\"jeruk\", \"apel\", \"mangga\", \"duren\",\"semangka\",\"pepaya\",\"kelapa\")\n",
    "\n",
    "print(buah[1])\n",
    "print(buah[-3])"
   ]
  },
  {
   "cell_type": "markdown",
   "id": "785803bb",
   "metadata": {},
   "source": [
    "## Dictionary\n",
    "a = { .... , ....} menggunakan kurung kurawal"
   ]
  },
  {
   "cell_type": "markdown",
   "id": "0b4ec8fb",
   "metadata": {},
   "source": [
    "### Defining a dictionary\n",
    "Dictionaries adalah implementasi python dari struktur data yang lebih dikenal assosiative array.\n",
    "Dictionaries terdiri dari key-value pairs. Setiap key-value pairs memetakan key ke value yang terkait."
   ]
  },
  {
   "cell_type": "markdown",
   "id": "0a5ece97",
   "metadata": {},
   "source": [
    "### Accessing dictionary values"
   ]
  },
  {
   "cell_type": "code",
   "execution_count": 24,
   "id": "2b012975",
   "metadata": {},
   "outputs": [
    {
     "data": {
      "text/plain": [
       "{'nama': 'Peter Parker',\n",
       " 'umur': 22,\n",
       " 'hobi': ['coding', 'membaca', 'cocok tanam'],\n",
       " 'menikah': False,\n",
       " 'alamat': 'tanjung pati'}"
      ]
     },
     "execution_count": 24,
     "metadata": {},
     "output_type": "execute_result"
    }
   ],
   "source": [
    "peter_parker = {\n",
    "    \"nama\": \"Peter Parker\",\n",
    "    \"umur\": 22,\n",
    "    \"hobi\": [\"coding\", \"membaca\", \"cocok tanam\"],\n",
    "    \"menikah\": False,\n",
    "    \"alamat\": \"tanjung pati\"\n",
    "}\n",
    "\n",
    "peter_parker"
   ]
  },
  {
   "cell_type": "code",
   "execution_count": 28,
   "id": "96e8b694",
   "metadata": {},
   "outputs": [
    {
     "name": "stdout",
     "output_type": "stream",
     "text": [
      "22\n",
      "tanjung pati\n"
     ]
    }
   ],
   "source": [
    "# mengakses elemen dalam dictionary menggunakan key\n",
    "\n",
    "print(peter_parker['umur'])\n",
    "print(peter_parker['alamat'])"
   ]
  },
  {
   "cell_type": "code",
   "execution_count": 29,
   "id": "e737221a",
   "metadata": {},
   "outputs": [
    {
     "data": {
      "text/plain": [
       "{'nama': 'Peter Parker',\n",
       " 'umur': 22,\n",
       " 'hobi': ['coding', 'membaca', 'cocok tanam'],\n",
       " 'menikah': False,\n",
       " 'alamat': 'tanjung pati',\n",
       " 'pekerjaann': 'dokter'}"
      ]
     },
     "execution_count": 29,
     "metadata": {},
     "output_type": "execute_result"
    }
   ],
   "source": [
    "# menambah entry baru\n",
    "\n",
    "peter_parker['pekerjaann'] = 'dokter'\n",
    "peter_parker"
   ]
  },
  {
   "cell_type": "code",
   "execution_count": 34,
   "id": "1c93481a",
   "metadata": {},
   "outputs": [
    {
     "data": {
      "text/plain": [
       "{'nama': 'Peter Parker',\n",
       " 'umur': 22,\n",
       " 'hobi': ['coding', 'membaca', 'cocok tanam'],\n",
       " 'menikah': False,\n",
       " 'alamat': 'padang',\n",
       " 'pekerjaann': 'dokter'}"
      ]
     },
     "execution_count": 34,
     "metadata": {},
     "output_type": "execute_result"
    }
   ],
   "source": [
    "# mengupdate value baru dengan menggunakan key yang sudah ada\n",
    "\n",
    "peter_parker['alamat'] = 'padang'\n",
    "peter_parker"
   ]
  },
  {
   "cell_type": "code",
   "execution_count": 35,
   "id": "f604d7d2",
   "metadata": {},
   "outputs": [
    {
     "data": {
      "text/plain": [
       "{'nama': 'Peter Parker',\n",
       " 'hobi': ['coding', 'membaca', 'cocok tanam'],\n",
       " 'menikah': False,\n",
       " 'alamat': 'padang',\n",
       " 'pekerjaann': 'dokter'}"
      ]
     },
     "execution_count": 35,
     "metadata": {},
     "output_type": "execute_result"
    }
   ],
   "source": [
    "# menghapus entry menggunakan key\n",
    "\n",
    "del peter_parker['umur']\n",
    "peter_parker"
   ]
  },
  {
   "cell_type": "markdown",
   "id": "0a991b14",
   "metadata": {},
   "source": [
    "### Buliding a dictionary incrementally\n",
    "Membuat dictionary sambil jalan, bisa dimulai dengan membuat dictionary kosong, yang ditentukan dengan tanda kurung kurawal kosong. Kemudian menambahkan kunci dan nilai satu per satu."
   ]
  },
  {
   "cell_type": "code",
   "execution_count": 37,
   "id": "61186ba6",
   "metadata": {},
   "outputs": [
    {
     "data": {
      "text/plain": [
       "{'fname': 'Hack',\n",
       " 'lname': 'Inalum',\n",
       " 'age': 51,\n",
       " 'spouse': 'Edna',\n",
       " 'children': ['Ralph', 'Betty', 'Joey'],\n",
       " 'pets': {'dog': 'Fido', 'cat': 'Sox'}}"
      ]
     },
     "execution_count": 37,
     "metadata": {},
     "output_type": "execute_result"
    }
   ],
   "source": [
    "person = {}\n",
    "type(person)\n",
    "\n",
    "person['fname'] = 'Hack'\n",
    "person['lname'] = 'Inalum'\n",
    "person['age'] = 51\n",
    "person['spouse'] = 'Edna'\n",
    "person['children'] = ['Ralph', 'Betty', 'Joey']\n",
    "person['pets'] = {'dog': 'Fido', 'cat': 'Sox'}\n",
    "\n",
    "person"
   ]
  },
  {
   "cell_type": "code",
   "execution_count": 38,
   "id": "61b04d18",
   "metadata": {},
   "outputs": [
    {
     "name": "stdout",
     "output_type": "stream",
     "text": [
      "Hack\n",
      "Inalum\n"
     ]
    }
   ],
   "source": [
    "print(person['fname'])\n",
    "print(person['lname'])"
   ]
  },
  {
   "cell_type": "code",
   "execution_count": 39,
   "id": "9f4d7b85",
   "metadata": {},
   "outputs": [
    {
     "name": "stdout",
     "output_type": "stream",
     "text": [
      "['Ralph', 'Betty', 'Joey']\n",
      "Betty\n"
     ]
    }
   ],
   "source": [
    "print(person['children'])\n",
    "print(person['children'][1])"
   ]
  },
  {
   "cell_type": "code",
   "execution_count": 40,
   "id": "315bf7f3",
   "metadata": {},
   "outputs": [
    {
     "name": "stdout",
     "output_type": "stream",
     "text": [
      "{'dog': 'Fido', 'cat': 'Sox'}\n",
      "Sox\n"
     ]
    }
   ],
   "source": [
    "print(person['pets'])\n",
    "print(person['pets']['cat'])"
   ]
  },
  {
   "cell_type": "code",
   "execution_count": 41,
   "id": "7b1da1bb",
   "metadata": {},
   "outputs": [
    {
     "name": "stdout",
     "output_type": "stream",
     "text": [
      "dict_items([('a', 10), ('b', 20), ('c', 30)])\n",
      "dict_keys(['a', 'b', 'c'])\n",
      "dict_values([10, 20, 30])\n"
     ]
    }
   ],
   "source": [
    "# Built-in Methods\n",
    "d = {'a': 10, 'b': 20, 'c': 30}\n",
    "\n",
    "# items\n",
    "print(d.items())\n",
    "\n",
    "# keys\n",
    "print(d.keys())\n",
    "\n",
    "# values\n",
    "print(d.values())"
   ]
  },
  {
   "cell_type": "markdown",
   "id": "390e2a63",
   "metadata": {},
   "source": [
    "## Line Continuation"
   ]
  },
  {
   "cell_type": "code",
   "execution_count": 42,
   "id": "eebb1d7d",
   "metadata": {},
   "outputs": [
    {
     "data": {
      "text/plain": [
       "True"
      ]
     },
     "execution_count": 42,
     "metadata": {},
     "output_type": "execute_result"
    }
   ],
   "source": [
    "person1_age = 42\n",
    "person2_age = 16\n",
    "person3_age = 71\n",
    "\n",
    "someone_is_of_working_age = (person1_age >= 18 and person1_age <= 65) or (person2_age >= 18 and person2_age <= 65) or (person3_age >= 18 and person3_age <= 65)\n",
    "someone_is_of_working_age"
   ]
  },
  {
   "cell_type": "code",
   "execution_count": 43,
   "id": "fbaaa280",
   "metadata": {},
   "outputs": [
    {
     "data": {
      "text/plain": [
       "True"
      ]
     },
     "execution_count": 43,
     "metadata": {},
     "output_type": "execute_result"
    }
   ],
   "source": [
    "someone_is_of_working_age = (\n",
    "    (person1_age >= 18 and person1_age <= 65)\n",
    "    or (person2_age >= 18 and person2_age <= 65)\n",
    "    or (person3_age >= 18 and person3_age <= 65)\n",
    ")\n",
    "\n",
    "someone_is_of_working_age"
   ]
  }
 ],
 "metadata": {
  "kernelspec": {
   "display_name": "Python 3 (ipykernel)",
   "language": "python",
   "name": "python3"
  },
  "language_info": {
   "codemirror_mode": {
    "name": "ipython",
    "version": 3
   },
   "file_extension": ".py",
   "mimetype": "text/x-python",
   "name": "python",
   "nbconvert_exporter": "python",
   "pygments_lexer": "ipython3",
   "version": "3.11.4"
  },
  "toc": {
   "base_numbering": 1,
   "nav_menu": {},
   "number_sections": true,
   "sideBar": true,
   "skip_h1_title": false,
   "title_cell": "Table of Contents",
   "title_sidebar": "Contents",
   "toc_cell": false,
   "toc_position": {},
   "toc_section_display": true,
   "toc_window_display": true
  }
 },
 "nbformat": 4,
 "nbformat_minor": 5
}
