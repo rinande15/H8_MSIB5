{
 "cells": [
  {
   "cell_type": "markdown",
   "id": "c53dc507",
   "metadata": {},
   "source": [
    "## Struktur Data Array"
   ]
  },
  {
   "cell_type": "markdown",
   "id": "c1dbf340",
   "metadata": {},
   "source": [
    "### Tentang numpy\n",
    "    Numpy adalah singkatan Numerical Python. Numpy dapat menyelesaikan dengan cepat perhitungan kompleks yang mana menggunakan pendekatan array programming. Numpy mampu menangani aljabar lineal, perkalian matriks, transformasi fourier, dll. \n",
    "    Numpy pertama kali dirilis pada tahun 2006. Sebelum numpy dirilis ada sebuah pustaka dengan nama numeric muncul ditahun 1995. Lalu setelah itu ada sebuah pustaka dengan nama Numarray yang menggantikan pustaka Numeric yang lebih fleksibel. "
   ]
  },
  {
   "cell_type": "markdown",
   "id": "f7ad9ab9",
   "metadata": {},
   "source": [
    "### Persiapan menggunakan numpy\n",
    "- Menggunakan environment anaconda\n",
    "- Menginstall environment anaconda di website anaconda\n",
    "- Menginstal numpy di environment anaconda\n",
    "- Membuat file numpy-workshop"
   ]
  },
  {
   "cell_type": "markdown",
   "id": "285ae493",
   "metadata": {},
   "source": [
    "## Organisasi Array"
   ]
  },
  {
   "cell_type": "markdown",
   "id": "fab2ce7a",
   "metadata": {},
   "source": [
    "### Tentang struktur data array\n",
    "    Struktur data array adalah struktur data umum. \n",
    "    Perbedaan List dan Array pada Python: \n",
    "    - List bersifat dinamis(jumlah elemennya bisa berubah-ubah), sedangakan array bersifat statis(jumlah elemennya tetap)\n",
    "    - List dapat menampung banyak tipe data berbeda, sedangkan arrray hanya boleh memiliki tipe data yang sama.\n",
    "    Python memiliki List yang fungsinya hampir mirip dengan Array."
   ]
  },
  {
   "cell_type": "markdown",
   "id": "8e4c435e",
   "metadata": {},
   "source": [
    "### Demo array dan list\n"
   ]
  },
  {
   "cell_type": "markdown",
   "id": "4bf46b32",
   "metadata": {},
   "source": [
    "#### Python list"
   ]
  },
  {
   "cell_type": "code",
   "execution_count": 3,
   "id": "b6d316bd",
   "metadata": {},
   "outputs": [],
   "source": [
    "gpas_as_list = [4.0, 3.2, 3.5]"
   ]
  },
  {
   "cell_type": "code",
   "execution_count": 4,
   "id": "a6cc9962",
   "metadata": {},
   "outputs": [
    {
     "data": {
      "text/plain": [
       "[4.0, 3.2, 3.5, 4.0]"
      ]
     },
     "execution_count": 4,
     "metadata": {},
     "output_type": "execute_result"
    }
   ],
   "source": [
    "gpas_as_list.append(4.0)\n",
    "gpas_as_list"
   ]
  },
  {
   "cell_type": "code",
   "execution_count": 5,
   "id": "16d829f4",
   "metadata": {},
   "outputs": [
    {
     "data": {
      "text/plain": [
       "[4.0, 'belum ada', 3.2, 3.5, 4.0]"
      ]
     },
     "execution_count": 5,
     "metadata": {},
     "output_type": "execute_result"
    }
   ],
   "source": [
    "gpas_as_list.insert(1, \"belum ada\")\n",
    "gpas_as_list"
   ]
  },
  {
   "cell_type": "code",
   "execution_count": 7,
   "id": "d0c0015c",
   "metadata": {},
   "outputs": [
    {
     "data": {
      "text/plain": [
       "[4.0, 3.5, 4.0]"
      ]
     },
     "execution_count": 7,
     "metadata": {},
     "output_type": "execute_result"
    }
   ],
   "source": [
    "gpas_as_list.pop(1)\n",
    "gpas_as_list"
   ]
  },
  {
   "cell_type": "markdown",
   "id": "0e3c9b89",
   "metadata": {},
   "source": [
    "#### NumPy array"
   ]
  },
  {
   "cell_type": "code",
   "execution_count": 15,
   "id": "171fe9b7",
   "metadata": {},
   "outputs": [],
   "source": [
    "import numpy as np\n",
    "gpas = np.array(gpas_as_list)"
   ]
  },
  {
   "cell_type": "code",
   "execution_count": 16,
   "id": "383b8802",
   "metadata": {},
   "outputs": [
    {
     "data": {
      "text/plain": [
       "dtype('float64')"
      ]
     },
     "execution_count": 16,
     "metadata": {},
     "output_type": "execute_result"
    }
   ],
   "source": [
    "gpas.dtype"
   ]
  },
  {
   "cell_type": "code",
   "execution_count": 17,
   "id": "c37f6c2f",
   "metadata": {},
   "outputs": [
    {
     "data": {
      "text/plain": [
       "3"
      ]
     },
     "execution_count": 17,
     "metadata": {},
     "output_type": "execute_result"
    }
   ],
   "source": [
    "gpas.size"
   ]
  },
  {
   "cell_type": "markdown",
   "id": "ab6c5fc6",
   "metadata": {},
   "source": [
    "Array:\n",
    "- jumlah elemen di array adalah tetap\n",
    "- semua elemen harus memiliki tipe data yang sama\n",
    "- array di numpy sangat pythonic artinya method-method di list juga berlaku di array"
   ]
  },
  {
   "cell_type": "markdown",
   "id": "e6aec249",
   "metadata": {},
   "source": [
    "#### Study log\n",
    "untuk mengetahui berapa lama kita belajar dalam sehari selama 100 hari kedepan"
   ]
  },
  {
   "cell_type": "code",
   "execution_count": 21,
   "id": "a199eb35",
   "metadata": {},
   "outputs": [
    {
     "data": {
      "text/plain": [
       "array([0, 0, 0, 0, 0, 0, 0, 0, 0, 0, 0, 0, 0, 0, 0, 0, 0, 0, 0, 0, 0, 0,\n",
       "       0, 0, 0, 0, 0, 0, 0, 0, 0, 0, 0, 0, 0, 0, 0, 0, 0, 0, 0, 0, 0, 0,\n",
       "       0, 0, 0, 0, 0, 0, 0, 0, 0, 0, 0, 0, 0, 0, 0, 0, 0, 0, 0, 0, 0, 0,\n",
       "       0, 0, 0, 0, 0, 0, 0, 0, 0, 0, 0, 0, 0, 0, 0, 0, 0, 0, 0, 0, 0, 0,\n",
       "       0, 0, 0, 0, 0, 0, 0, 0, 0, 0, 0, 0], dtype=uint16)"
      ]
     },
     "execution_count": 21,
     "metadata": {},
     "output_type": "execute_result"
    }
   ],
   "source": [
    "study_minutes = np.zeros(100, np.uint16)\n",
    "study_minutes"
   ]
  },
  {
   "cell_type": "code",
   "execution_count": 22,
   "id": "dc88dd36",
   "metadata": {},
   "outputs": [
    {
     "name": "stdout",
     "output_type": "stream",
     "text": [
      "Variable        Type       Data/Info\n",
      "------------------------------------\n",
      "gpas            ndarray    3: 3 elems, type `float64`, 24 bytes\n",
      "gpas_as_list    list       n=3\n",
      "np              module     <module 'numpy' from 'D:\\<...>ges\\\\numpy\\\\__init__.py'>\n",
      "study_minutes   ndarray    100: 100 elems, type `uint16`, 200 bytes\n"
     ]
    }
   ],
   "source": [
    "%whos"
   ]
  },
  {
   "cell_type": "code",
   "execution_count": null,
   "id": "c8aa8f17",
   "metadata": {},
   "outputs": [],
   "source": []
  },
  {
   "cell_type": "markdown",
   "id": "1bedf975",
   "metadata": {},
   "source": [
    "### Array multidimensi"
   ]
  },
  {
   "cell_type": "markdown",
   "id": "7052b3ce",
   "metadata": {},
   "source": [
    "Array satu dimensi\n",
    "contoh: - gpas = 4.0, 3.25, 3.29, 2.7\n",
    "(4.0 disebut dengan array satu dimensi)"
   ]
  },
  {
   "cell_type": "markdown",
   "id": "2c3ad15e",
   "metadata": {},
   "source": [
    "Array dua dimensi adalah array memiliki dua sumbu, contoh yaitu sumbu x sebagai year dan sumbu y sebagai student.\n",
    "Bisa disebut juga dengan matriks"
   ]
  },
  {
   "cell_type": "markdown",
   "id": "73747aad",
   "metadata": {},
   "source": [
    "Array multi dimensi contoh mempunyai tiga range yaitu daftar sekolah, daftar mahasiswa, dan daftar semester. Di numpy disebut dengan ndarrys(multi dimension arrays). Atau lebih sederhananya array dalam array dalam array."
   ]
  },
  {
   "cell_type": "code",
   "execution_count": 23,
   "id": "567a9914",
   "metadata": {},
   "outputs": [
    {
     "data": {
      "text/plain": [
       "array([[4.  , 3.3 , 3.5 , 4.  ],\n",
       "       [3.96, 3.92, 4.  , 4.  ],\n",
       "       [3.2 , 3.8 , 4.  , 4.  ]], dtype=float16)"
      ]
     },
     "execution_count": 23,
     "metadata": {},
     "output_type": "execute_result"
    }
   ],
   "source": [
    "students_gpas = np.array([\n",
    "    [4.0, 3.3, 3.5, 4.0],\n",
    "    [3.96, 3.92, 4.0, 4.0],\n",
    "    [3.2, 3.8, 4.0, 4.0]\n",
    "], np.float16)\n",
    "students_gpas"
   ]
  },
  {
   "cell_type": "code",
   "execution_count": 25,
   "id": "fb21ca60",
   "metadata": {},
   "outputs": [
    {
     "data": {
      "text/plain": [
       "2"
      ]
     },
     "execution_count": 25,
     "metadata": {},
     "output_type": "execute_result"
    }
   ],
   "source": [
    "students_gpas.ndim #untuk melihat dimensi array"
   ]
  },
  {
   "cell_type": "code",
   "execution_count": 27,
   "id": "e1abe73d",
   "metadata": {},
   "outputs": [
    {
     "data": {
      "text/plain": [
       "(3, 4)"
      ]
     },
     "execution_count": 27,
     "metadata": {},
     "output_type": "execute_result"
    }
   ],
   "source": [
    "students_gpas.shape #untuk mengetahui bentuk array"
   ]
  },
  {
   "cell_type": "markdown",
   "id": "7910d366",
   "metadata": {},
   "source": [
    "Artinya kita mempunyai 3 array untuk mempresentasikan 4 element"
   ]
  },
  {
   "cell_type": "code",
   "execution_count": 29,
   "id": "aaf38999",
   "metadata": {},
   "outputs": [
    {
     "data": {
      "text/plain": [
       "array([3.2, 3.8, 4. , 4. ], dtype=float16)"
      ]
     },
     "execution_count": 29,
     "metadata": {},
     "output_type": "execute_result"
    }
   ],
   "source": [
    "students_gpas[2] #mengakses indeks ke 2"
   ]
  },
  {
   "cell_type": "code",
   "execution_count": 31,
   "id": "f7b785de",
   "metadata": {},
   "outputs": [
    {
     "data": {
      "text/plain": [
       "4.0"
      ]
     },
     "execution_count": 31,
     "metadata": {},
     "output_type": "execute_result"
    }
   ],
   "source": [
    "students_gpas[2][3] #mengakses indeks dari student ke 3 dan semester ke 4"
   ]
  },
  {
   "cell_type": "code",
   "execution_count": null,
   "id": "57fdb3aa",
   "metadata": {},
   "outputs": [],
   "source": []
  },
  {
   "cell_type": "markdown",
   "id": "33b3cb18",
   "metadata": {},
   "source": [
    "## Pemrograman Berbasis Array"
   ]
  },
  {
   "cell_type": "markdown",
   "id": "359a6237",
   "metadata": {},
   "source": [
    "### Array indexing\n",
    "manipulasi dan kondensasi array"
   ]
  },
  {
   "cell_type": "markdown",
   "id": "3ab0c7de",
   "metadata": {},
   "source": [
    "#### Study log multidimensi"
   ]
  },
  {
   "cell_type": "code",
   "execution_count": 32,
   "id": "e9c1cb37",
   "metadata": {},
   "outputs": [
    {
     "data": {
      "text/plain": [
       "array([0, 0, 0, 0, 0, 0, 0, 0, 0, 0, 0, 0, 0, 0, 0, 0, 0, 0, 0, 0, 0, 0,\n",
       "       0, 0, 0, 0, 0, 0, 0, 0, 0, 0, 0, 0, 0, 0, 0, 0, 0, 0, 0, 0, 0, 0,\n",
       "       0, 0, 0, 0, 0, 0, 0, 0, 0, 0, 0, 0, 0, 0, 0, 0, 0, 0, 0, 0, 0, 0,\n",
       "       0, 0, 0, 0, 0, 0, 0, 0, 0, 0, 0, 0, 0, 0, 0, 0, 0, 0, 0, 0, 0, 0,\n",
       "       0, 0, 0, 0, 0, 0, 0, 0, 0, 0, 0, 0], dtype=uint16)"
      ]
     },
     "execution_count": 32,
     "metadata": {},
     "output_type": "execute_result"
    }
   ],
   "source": [
    "study_minutes "
   ]
  },
  {
   "cell_type": "code",
   "execution_count": 33,
   "id": "588ab130",
   "metadata": {},
   "outputs": [
    {
     "data": {
      "text/plain": [
       "(2, 100)"
      ]
     },
     "execution_count": 33,
     "metadata": {},
     "output_type": "execute_result"
    }
   ],
   "source": [
    "study_minutes = np.array([\n",
    "    study_minutes,\n",
    "    np.zeros(100, np.uint16)\n",
    "]) #convert array 2 dimensi ke array 3 dimensi\n",
    "study_minutes.shape"
   ]
  },
  {
   "cell_type": "markdown",
   "id": "07b20bbc",
   "metadata": {},
   "source": [
    "Artinya mempunya array 2 dimensi dan masing masing sebanyak 100"
   ]
  },
  {
   "cell_type": "code",
   "execution_count": 34,
   "id": "601d4235",
   "metadata": {},
   "outputs": [
    {
     "data": {
      "text/plain": [
       "array([[ 0,  0,  0,  0,  0,  0,  0,  0,  0,  0,  0,  0,  0,  0,  0,  0,\n",
       "         0,  0,  0,  0,  0,  0,  0,  0,  0,  0,  0,  0,  0,  0,  0,  0,\n",
       "         0,  0,  0,  0,  0,  0,  0,  0,  0,  0,  0,  0,  0,  0,  0,  0,\n",
       "         0,  0,  0,  0,  0,  0,  0,  0,  0,  0,  0,  0,  0,  0,  0,  0,\n",
       "         0,  0,  0,  0,  0,  0,  0,  0,  0,  0,  0,  0,  0,  0,  0,  0,\n",
       "         0,  0,  0,  0,  0,  0,  0,  0,  0,  0,  0,  0,  0,  0,  0,  0,\n",
       "         0,  0,  0,  0],\n",
       "       [60,  0,  0,  0,  0,  0,  0,  0,  0,  0,  0,  0,  0,  0,  0,  0,\n",
       "         0,  0,  0,  0,  0,  0,  0,  0,  0,  0,  0,  0,  0,  0,  0,  0,\n",
       "         0,  0,  0,  0,  0,  0,  0,  0,  0,  0,  0,  0,  0,  0,  0,  0,\n",
       "         0,  0,  0,  0,  0,  0,  0,  0,  0,  0,  0,  0,  0,  0,  0,  0,\n",
       "         0,  0,  0,  0,  0,  0,  0,  0,  0,  0,  0,  0,  0,  0,  0,  0,\n",
       "         0,  0,  0,  0,  0,  0,  0,  0,  0,  0,  0,  0,  0,  0,  0,  0,\n",
       "         0,  0,  0,  0]], dtype=uint16)"
      ]
     },
     "execution_count": 34,
     "metadata": {},
     "output_type": "execute_result"
    }
   ],
   "source": [
    "study_minutes[1][0] = 60\n",
    "study_minutes"
   ]
  },
  {
   "cell_type": "markdown",
   "id": "c19f8361",
   "metadata": {},
   "source": [
    "Sekarang kita mempunyai array 2 dimensi"
   ]
  },
  {
   "cell_type": "code",
   "execution_count": 36,
   "id": "7b8be9cc",
   "metadata": {},
   "outputs": [
    {
     "data": {
      "text/plain": [
       "array([132, 122, 128,  44, 136, 129, 101,  95,  50, 132, 151,  64, 104,\n",
       "       175, 117, 146, 139, 129, 133, 176,  98, 160, 179,  99,  82, 142,\n",
       "        31, 106, 117,  56,  98,  67, 121, 159,  81, 170,  31,  50,  49,\n",
       "        87, 179,  51, 116, 177, 118,  78, 171, 117,  88, 123, 102,  44,\n",
       "        79,  31, 108,  80,  59, 137,  84,  93, 155, 160,  67,  80, 166,\n",
       "       164,  70,  50, 102, 113,  47, 131, 161, 118,  82,  89,  81,  43,\n",
       "        81,  38, 119,  52,  82,  31, 159,  57, 113,  71, 121, 140,  91,\n",
       "        70,  37, 106,  64, 127, 110,  58,  93,  79], dtype=uint16)"
      ]
     },
     "execution_count": 36,
     "metadata": {},
     "output_type": "execute_result"
    }
   ],
   "source": [
    "rand = np.random.RandomState(42) #nilai random yaitu 42\n",
    "fake_log = rand.randint(30, 180, size=100, dtype=np.uint16) #nilai maksimum 30 dan maksimum 180\n",
    "fake_log"
   ]
  },
  {
   "cell_type": "code",
   "execution_count": 39,
   "id": "176c897d",
   "metadata": {},
   "outputs": [
    {
     "data": {
      "text/plain": [
       "(122, 160)"
      ]
     },
     "execution_count": 39,
     "metadata": {},
     "output_type": "execute_result"
    }
   ],
   "source": [
    "fake_log[1], fake_log[21] #menjadi list"
   ]
  },
  {
   "cell_type": "code",
   "execution_count": 41,
   "id": "8ad5ab62",
   "metadata": {},
   "outputs": [
    {
     "data": {
      "text/plain": [
       "array([122, 160], dtype=uint16)"
      ]
     },
     "execution_count": 41,
     "metadata": {},
     "output_type": "execute_result"
    }
   ],
   "source": [
    "fake_log[[1, 21]] #menjadi array"
   ]
  },
  {
   "cell_type": "code",
   "execution_count": 44,
   "id": "166ee45f",
   "metadata": {},
   "outputs": [
    {
     "data": {
      "text/plain": [
       "array([[122, 160],\n",
       "       [122, 128]], dtype=uint16)"
      ]
     },
     "execution_count": 44,
     "metadata": {},
     "output_type": "execute_result"
    }
   ],
   "source": [
    "#membuat array baru berdasarkan indeks tadi\n",
    "index = np.array([\n",
    "    [1, 21],\n",
    "    [1, 2]\n",
    "])\n",
    "fake_log[index]"
   ]
  },
  {
   "cell_type": "code",
   "execution_count": 45,
   "id": "ec5ffa2c",
   "metadata": {},
   "outputs": [
    {
     "data": {
      "text/plain": [
       "array([  0,   0,   0,   0,   0,   0,   0,   0,   0,   0,   0,   0,   0,\n",
       "         0,   0,   0,   0,   0,   0,   0,   0,   0,   0,   0,   0,   0,\n",
       "         0,   0,   0,   0,   0,   0,   0,   0,   0,   0,   0,   0,   0,\n",
       "         0,   0,   0,   0,   0,   0,   0,   0,   0,   0,   0,   0,   0,\n",
       "         0,   0,   0,   0,   0,   0,   0,   0,   0,   0,   0,   0,   0,\n",
       "         0,   0,   0,   0,   0,   0,   0,   0,   0,   0,   0,   0,   0,\n",
       "         0,   0,   0,   0,   0,   0,   0,   0,   0,   0,   0,   0,   0,\n",
       "         0,   0,   0,   0,   0,   0,   0,   0,   0,  60,   0,   0,   0,\n",
       "         0,   0,   0,   0,   0,   0,   0,   0,   0,   0,   0,   0,   0,\n",
       "         0,   0,   0,   0,   0,   0,   0,   0,   0,   0,   0,   0,   0,\n",
       "         0,   0,   0,   0,   0,   0,   0,   0,   0,   0,   0,   0,   0,\n",
       "         0,   0,   0,   0,   0,   0,   0,   0,   0,   0,   0,   0,   0,\n",
       "         0,   0,   0,   0,   0,   0,   0,   0,   0,   0,   0,   0,   0,\n",
       "         0,   0,   0,   0,   0,   0,   0,   0,   0,   0,   0,   0,   0,\n",
       "         0,   0,   0,   0,   0,   0,   0,   0,   0,   0,   0,   0,   0,\n",
       "         0,   0,   0,   0,   0, 132, 122, 128,  44, 136, 129, 101,  95,\n",
       "        50, 132, 151,  64, 104, 175, 117, 146, 139, 129, 133, 176,  98,\n",
       "       160, 179,  99,  82, 142,  31, 106, 117,  56,  98,  67, 121, 159,\n",
       "        81, 170,  31,  50,  49,  87, 179,  51, 116, 177, 118,  78, 171,\n",
       "       117,  88, 123, 102,  44,  79,  31, 108,  80,  59, 137,  84,  93,\n",
       "       155, 160,  67,  80, 166, 164,  70,  50, 102, 113,  47, 131, 161,\n",
       "       118,  82,  89,  81,  43,  81,  38, 119,  52,  82,  31, 159,  57,\n",
       "       113,  71, 121, 140,  91,  70,  37, 106,  64, 127, 110,  58,  93,\n",
       "        79], dtype=uint16)"
      ]
     },
     "execution_count": 45,
     "metadata": {},
     "output_type": "execute_result"
    }
   ],
   "source": [
    "#mengubah indeks\n",
    "study_minutes = np.append(study_minutes, [fake_log]) #ronde pertama berisi nol semua, ronde kedua berisi 60\n",
    "study_minutes"
   ]
  },
  {
   "cell_type": "markdown",
   "id": "3498a86c",
   "metadata": {},
   "source": [
    "memasukkan nilai acak ke array dengan fungsi random"
   ]
  },
  {
   "cell_type": "markdown",
   "id": "0a265eb3",
   "metadata": {},
   "source": [
    "### Slicing array\n",
    "hampir mirip dengan list"
   ]
  },
  {
   "cell_type": "code",
   "execution_count": 47,
   "id": "9d59aaf2",
   "metadata": {},
   "outputs": [
    {
     "data": {
      "text/plain": [
       "array([[ 0,  1,  2,  3,  4,  5],\n",
       "       [ 6,  7,  8,  9, 10, 11],\n",
       "       [12, 13, 14, 15, 16, 17],\n",
       "       [18, 19, 20, 21, 22, 23],\n",
       "       [24, 25, 26, 27, 28, 29],\n",
       "       [30, 31, 32, 33, 34, 35],\n",
       "       [36, 37, 38, 39, 40, 41]])"
      ]
     },
     "execution_count": 47,
     "metadata": {},
     "output_type": "execute_result"
    }
   ],
   "source": [
    "practice = np.arange(42) #0-41\n",
    "practice.shape = (7, 6) #menjadi 7 indeks dan 6 elemen\n",
    "practice"
   ]
  },
  {
   "cell_type": "code",
   "execution_count": 49,
   "id": "0a398e69",
   "metadata": {},
   "outputs": [
    {
     "data": {
      "text/plain": [
       "13"
      ]
     },
     "execution_count": 49,
     "metadata": {},
     "output_type": "execute_result"
    }
   ],
   "source": [
    "practice[2, 1] #mengakses indeks atau mendapatkan indeks array"
   ]
  },
  {
   "cell_type": "code",
   "execution_count": 50,
   "id": "c1ebe9b5",
   "metadata": {},
   "outputs": [
    {
     "data": {
      "text/plain": [
       "array([[12, 13, 14, 15, 16, 17],\n",
       "       [18, 19, 20, 21, 22, 23],\n",
       "       [24, 25, 26, 27, 28, 29]])"
      ]
     },
     "execution_count": 50,
     "metadata": {},
     "output_type": "execute_result"
    }
   ],
   "source": [
    "practice[2:5] #mengambil indeks"
   ]
  },
  {
   "cell_type": "code",
   "execution_count": 51,
   "id": "90ef2987",
   "metadata": {},
   "outputs": [
    {
     "data": {
      "text/plain": [
       "array([15, 21, 27])"
      ]
     },
     "execution_count": 51,
     "metadata": {},
     "output_type": "execute_result"
    }
   ],
   "source": [
    "practice[2:5, 3] "
   ]
  },
  {
   "cell_type": "code",
   "execution_count": 52,
   "id": "4a409fff",
   "metadata": {},
   "outputs": [
    {
     "data": {
      "text/plain": [
       "array([[15, 16, 17],\n",
       "       [21, 22, 23],\n",
       "       [27, 28, 29]])"
      ]
     },
     "execution_count": 52,
     "metadata": {},
     "output_type": "execute_result"
    }
   ],
   "source": [
    "practice[2:5, 3:] "
   ]
  },
  {
   "cell_type": "markdown",
   "id": "79b2d00f",
   "metadata": {},
   "source": [
    "### Copy vs view\n"
   ]
  },
  {
   "cell_type": "code",
   "execution_count": 53,
   "id": "ca0de147",
   "metadata": {},
   "outputs": [
    {
     "data": {
      "text/plain": [
       "([1, 2, 3], [1, 2, 3])"
      ]
     },
     "execution_count": 53,
     "metadata": {},
     "output_type": "execute_result"
    }
   ],
   "source": [
    "practice_list = [1, 2, 3]\n",
    "practice_list_copy = practice_list[:]\n",
    "practice_list, practice_list_copy"
   ]
  },
  {
   "cell_type": "code",
   "execution_count": 54,
   "id": "2c427ee4",
   "metadata": {},
   "outputs": [
    {
     "data": {
      "text/plain": [
       "([1, 2, 3], [12345, 2, 3])"
      ]
     },
     "execution_count": 54,
     "metadata": {},
     "output_type": "execute_result"
    }
   ],
   "source": [
    "#mengubah practice_list_copy dengan tidak mengubah practice_list\n",
    "practice_list = [1, 2, 3]\n",
    "practice_list_copy = practice_list[:]\n",
    "practice_list, practice_list_copy\n",
    "practice_list_copy[0] = 12345 #mengubah indeks ke 0 dalam practice_list_copy dari 1 menjadi 12345\n",
    "practice_list, practice_list_copy"
   ]
  },
  {
   "cell_type": "code",
   "execution_count": 55,
   "id": "0f9f2589",
   "metadata": {},
   "outputs": [
    {
     "data": {
      "text/plain": [
       "array([[ 0,  1,  2,  3,  4,  5],\n",
       "       [ 6,  7,  8,  9, 10, 11],\n",
       "       [12, 13, 14, 15, 16, 17],\n",
       "       [18, 19, 20, 21, 22, 23],\n",
       "       [24, 25, 26, 27, 28, 29],\n",
       "       [30, 31, 32, 33, 34, 35],\n",
       "       [36, 37, 38, 39, 40, 41]])"
      ]
     },
     "execution_count": 55,
     "metadata": {},
     "output_type": "execute_result"
    }
   ],
   "source": [
    "#copy dalam bentuk array\n",
    "practice"
   ]
  },
  {
   "cell_type": "code",
   "execution_count": 58,
   "id": "39028f1b",
   "metadata": {},
   "outputs": [
    {
     "data": {
      "text/plain": [
       "(array([[12345,     1,     2,     3,     4,     5],\n",
       "        [    6,     7,     8,     9,    10,    11],\n",
       "        [   12,    13,    14,    15,    16,    17],\n",
       "        [   18,    19,    20,    21,    22,    23],\n",
       "        [   24,    25,    26,    27,    28,    29],\n",
       "        [   30,    31,    32,    33,    34,    35],\n",
       "        [   36,    37,    38,    39,    40,    41]]),\n",
       " array([[12345,     1,     2,     3,     4,     5],\n",
       "        [    6,     7,     8,     9,    10,    11],\n",
       "        [   12,    13,    14,    15,    16,    17],\n",
       "        [   18,    19,    20,    21,    22,    23],\n",
       "        [   24,    25,    26,    27,    28,    29],\n",
       "        [   30,    31,    32,    33,    34,    35],\n",
       "        [   36,    37,    38,    39,    40,    41]]))"
      ]
     },
     "execution_count": 58,
     "metadata": {},
     "output_type": "execute_result"
    }
   ],
   "source": [
    "not_copied = practice[:]\n",
    "not_copied[0, 0] = 12345\n",
    "practice, not_copied\n",
    "#mengubah semuanya(practice dan not_copied) dengan cara membuat relasi antara keduanya"
   ]
  },
  {
   "cell_type": "code",
   "execution_count": 59,
   "id": "eb1c811d",
   "metadata": {},
   "outputs": [
    {
     "name": "stdout",
     "output_type": "stream",
     "text": [
      "None\n"
     ]
    }
   ],
   "source": [
    "print(practice.base)"
   ]
  },
  {
   "cell_type": "code",
   "execution_count": 60,
   "id": "19a17747",
   "metadata": {},
   "outputs": [
    {
     "name": "stdout",
     "output_type": "stream",
     "text": [
      "[[12345     1     2     3     4     5]\n",
      " [    6     7     8     9    10    11]\n",
      " [   12    13    14    15    16    17]\n",
      " [   18    19    20    21    22    23]\n",
      " [   24    25    26    27    28    29]\n",
      " [   30    31    32    33    34    35]\n",
      " [   36    37    38    39    40    41]]\n"
     ]
    }
   ],
   "source": [
    "print(not_copied.base)"
   ]
  },
  {
   "cell_type": "code",
   "execution_count": 61,
   "id": "d6b92fd9",
   "metadata": {},
   "outputs": [
    {
     "data": {
      "text/plain": [
       "True"
      ]
     },
     "execution_count": 61,
     "metadata": {},
     "output_type": "execute_result"
    }
   ],
   "source": [
    "not_copied.base is practice"
   ]
  },
  {
   "cell_type": "code",
   "execution_count": 62,
   "id": "d632027c",
   "metadata": {},
   "outputs": [
    {
     "data": {
      "text/plain": [
       "False"
      ]
     },
     "execution_count": 62,
     "metadata": {},
     "output_type": "execute_result"
    }
   ],
   "source": [
    "not_copied.base is practice_list"
   ]
  },
  {
   "cell_type": "markdown",
   "id": "0a415f02",
   "metadata": {},
   "source": [
    "### Filter array\n",
    "- numpy memiliki kemampuan filter yang luar biasa, mampu memanipulasi arrray dengan cepat, membuat array baru dengan cepat"
   ]
  },
  {
   "cell_type": "code",
   "execution_count": 63,
   "id": "da4dcbdd",
   "metadata": {},
   "outputs": [
    {
     "data": {
      "text/plain": [
       "array([  0,   0,   0,   0,   0,   0,   0,   0,   0,   0,   0,   0,   0,\n",
       "         0,   0,   0,   0,   0,   0,   0,   0,   0,   0,   0,   0,   0,\n",
       "         0,   0,   0,   0,   0,   0,   0,   0,   0,   0,   0,   0,   0,\n",
       "         0,   0,   0,   0,   0,   0,   0,   0,   0,   0,   0,   0,   0,\n",
       "         0,   0,   0,   0,   0,   0,   0,   0,   0,   0,   0,   0,   0,\n",
       "         0,   0,   0,   0,   0,   0,   0,   0,   0,   0,   0,   0,   0,\n",
       "         0,   0,   0,   0,   0,   0,   0,   0,   0,   0,   0,   0,   0,\n",
       "         0,   0,   0,   0,   0,   0,   0,   0,   0,  60,   0,   0,   0,\n",
       "         0,   0,   0,   0,   0,   0,   0,   0,   0,   0,   0,   0,   0,\n",
       "         0,   0,   0,   0,   0,   0,   0,   0,   0,   0,   0,   0,   0,\n",
       "         0,   0,   0,   0,   0,   0,   0,   0,   0,   0,   0,   0,   0,\n",
       "         0,   0,   0,   0,   0,   0,   0,   0,   0,   0,   0,   0,   0,\n",
       "         0,   0,   0,   0,   0,   0,   0,   0,   0,   0,   0,   0,   0,\n",
       "         0,   0,   0,   0,   0,   0,   0,   0,   0,   0,   0,   0,   0,\n",
       "         0,   0,   0,   0,   0,   0,   0,   0,   0,   0,   0,   0,   0,\n",
       "         0,   0,   0,   0,   0, 132, 122, 128,  44, 136, 129, 101,  95,\n",
       "        50, 132, 151,  64, 104, 175, 117, 146, 139, 129, 133, 176,  98,\n",
       "       160, 179,  99,  82, 142,  31, 106, 117,  56,  98,  67, 121, 159,\n",
       "        81, 170,  31,  50,  49,  87, 179,  51, 116, 177, 118,  78, 171,\n",
       "       117,  88, 123, 102,  44,  79,  31, 108,  80,  59, 137,  84,  93,\n",
       "       155, 160,  67,  80, 166, 164,  70,  50, 102, 113,  47, 131, 161,\n",
       "       118,  82,  89,  81,  43,  81,  38, 119,  52,  82,  31, 159,  57,\n",
       "       113,  71, 121, 140,  91,  70,  37, 106,  64, 127, 110,  58,  93,\n",
       "        79], dtype=uint16)"
      ]
     },
     "execution_count": 63,
     "metadata": {},
     "output_type": "execute_result"
    }
   ],
   "source": [
    "study_minutes"
   ]
  },
  {
   "cell_type": "markdown",
   "id": "5c4dd211",
   "metadata": {},
   "source": [
    "#### Filter array dengan kondisi\n",
    "mencari durasi belajar dibawah 60 menit"
   ]
  },
  {
   "cell_type": "code",
   "execution_count": 65,
   "id": "15c63141",
   "metadata": {},
   "outputs": [
    {
     "data": {
      "text/plain": [
       "array([False, False, False,  True, False, False, False, False,  True,\n",
       "       False, False, False, False, False, False, False, False, False,\n",
       "       False, False, False, False, False, False, False, False,  True,\n",
       "       False, False,  True, False, False, False, False, False, False,\n",
       "        True,  True,  True, False, False,  True, False, False, False,\n",
       "       False, False, False, False, False, False,  True, False,  True,\n",
       "       False, False,  True, False, False, False, False, False, False,\n",
       "       False, False, False, False,  True, False, False,  True, False,\n",
       "       False, False, False, False, False,  True, False,  True, False,\n",
       "        True, False,  True, False,  True, False, False, False, False,\n",
       "       False, False,  True, False, False, False, False,  True, False,\n",
       "       False])"
      ]
     },
     "execution_count": 65,
     "metadata": {},
     "output_type": "execute_result"
    }
   ],
   "source": [
    "fake_log < 60"
   ]
  },
  {
   "cell_type": "markdown",
   "id": "9d337713",
   "metadata": {},
   "source": [
    "- True adalah di bawah 60 menit\n",
    "- False adalah di atas 60 menit"
   ]
  },
  {
   "cell_type": "code",
   "execution_count": 66,
   "id": "e609d55f",
   "metadata": {},
   "outputs": [
    {
     "data": {
      "text/plain": [
       "array([44, 50, 31, 56, 31, 50, 49, 51, 44, 31, 59, 50, 47, 43, 38, 52, 31,\n",
       "       57, 37, 58], dtype=uint16)"
      ]
     },
     "execution_count": 66,
     "metadata": {},
     "output_type": "execute_result"
    }
   ],
   "source": [
    "#membuat data baru dari yang dibawah 60 menit\n",
    "fake_log < 60\n",
    "fake_log[fake_log < 60]"
   ]
  },
  {
   "cell_type": "code",
   "execution_count": 67,
   "id": "8cd32225",
   "metadata": {},
   "outputs": [
    {
     "data": {
      "text/plain": [
       "array([44, 50, 31, 56, 31, 50, 49, 51, 44, 31, 59, 50, 47, 43, 38, 52, 31,\n",
       "       57, 37, 58], dtype=uint16)"
      ]
     },
     "execution_count": 67,
     "metadata": {},
     "output_type": "execute_result"
    }
   ],
   "source": [
    "#menggunakan for loop untuk mendapatkan nilai <60\n",
    "results = []\n",
    "for value in fake_log:\n",
    "    if value < 60:\n",
    "        results.append(value)\n",
    "        \n",
    "np.array(results)"
   ]
  },
  {
   "cell_type": "code",
   "execution_count": 68,
   "id": "6fd3c17d",
   "metadata": {},
   "outputs": [
    {
     "data": {
      "text/plain": [
       "array([  0,   0,   0,   0,   0,   0,   0,   0,   0,   0,   0,   0,   0,\n",
       "         0,   0,   0,   0,   0,   0,   0,   0,   0,   0,   0,   0,   0,\n",
       "         0,   0,   0,   0,   0,   0,   0,   0,   0,   0,   0,   0,   0,\n",
       "         0,   0,   0,   0,   0,   0,   0,   0,   0,   0,   0,   0,   0,\n",
       "         0,   0,   0,   0,   0,   0,   0,   0,   0,   0,   0,   0,   0,\n",
       "         0,   0,   0,   0,   0,   0,   0,   0,   0,   0,   0,   0,   0,\n",
       "         0,   0,   0,   0,   0,   0,   0,   0,   0,   0,   0,   0,   0,\n",
       "         0,   0,   0,   0,   0,   0,   0,   0,   0, 132, 122, 128,  44,\n",
       "       136, 129, 101,  95,  50, 132, 151,  64, 104, 175, 117, 146, 139,\n",
       "       129, 133, 176,  98, 160, 179,  99,  82, 142,  31, 106, 117,  56,\n",
       "        98,  67, 121, 159,  81, 170,  31,  50,  49,  87, 179,  51, 116,\n",
       "       177, 118,  78, 171, 117,  88, 123, 102,  44,  79,  31, 108,  80,\n",
       "        59, 137,  84,  93, 155, 160,  67,  80, 166, 164,  70,  50, 102,\n",
       "       113,  47, 131, 161, 118,  82,  89,  81,  43,  81,  38, 119,  52,\n",
       "        82,  31, 159,  57, 113,  71, 121, 140,  91,  70,  37, 106,  64,\n",
       "       127, 110,  58,  93,  79], dtype=uint16)"
      ]
     },
     "execution_count": 68,
     "metadata": {},
     "output_type": "execute_result"
    }
   ],
   "source": [
    "study_minutes = np.zeros(100, np.uint16)\n",
    "study_minutes = np.append(study_minutes, [fake_log])\n",
    "study_minutes"
   ]
  },
  {
   "cell_type": "code",
   "execution_count": 69,
   "id": "7a509e5a",
   "metadata": {},
   "outputs": [
    {
     "data": {
      "text/plain": [
       "array([ 0,  0,  0,  0,  0,  0,  0,  0,  0,  0,  0,  0,  0,  0,  0,  0,  0,\n",
       "        0,  0,  0,  0,  0,  0,  0,  0,  0,  0,  0,  0,  0,  0,  0,  0,  0,\n",
       "        0,  0,  0,  0,  0,  0,  0,  0,  0,  0,  0,  0,  0,  0,  0,  0,  0,\n",
       "        0,  0,  0,  0,  0,  0,  0,  0,  0,  0,  0,  0,  0,  0,  0,  0,  0,\n",
       "        0,  0,  0,  0,  0,  0,  0,  0,  0,  0,  0,  0,  0,  0,  0,  0,  0,\n",
       "        0,  0,  0,  0,  0,  0,  0,  0,  0,  0,  0,  0,  0,  0,  0, 44, 50,\n",
       "       31, 56, 31, 50, 49, 51, 44, 31, 59, 50, 47, 43, 38, 52, 31, 57, 37,\n",
       "       58], dtype=uint16)"
      ]
     },
     "execution_count": 69,
     "metadata": {},
     "output_type": "execute_result"
    }
   ],
   "source": [
    "#melakukan filter untuk nilai <60\n",
    "study_minutes[study_minutes < 60]"
   ]
  },
  {
   "cell_type": "code",
   "execution_count": 70,
   "id": "61a5d293",
   "metadata": {},
   "outputs": [
    {
     "data": {
      "text/plain": [
       "array([44, 50, 31, 56, 31, 50, 49, 51, 44, 31, 59, 50, 47, 43, 38, 52, 31,\n",
       "       57, 37, 58], dtype=uint16)"
      ]
     },
     "execution_count": 70,
     "metadata": {},
     "output_type": "execute_result"
    }
   ],
   "source": [
    "#menghilangkan angka 0\n",
    "study_minutes[study_minutes < 60]\n",
    "study_minutes[(study_minutes > 0) & (study_minutes < 60)]"
   ]
  },
  {
   "cell_type": "code",
   "execution_count": null,
   "id": "ee00f549",
   "metadata": {},
   "outputs": [],
   "source": []
  },
  {
   "cell_type": "markdown",
   "id": "b8ae2abd",
   "metadata": {},
   "source": [
    "## Visualisasi Data"
   ]
  },
  {
   "cell_type": "markdown",
   "id": "3e4336ef",
   "metadata": {},
   "source": [
    "### Aljabar linear\n",
    "penerapan untuk solving problem keseharian"
   ]
  },
  {
   "cell_type": "code",
   "execution_count": 71,
   "id": "9d839a94",
   "metadata": {},
   "outputs": [
    {
     "data": {
      "text/plain": [
       "array([10000.,  2500.,  5000.,  3000.])"
      ]
     },
     "execution_count": 71,
     "metadata": {},
     "output_type": "execute_result"
    }
   ],
   "source": [
    "#data\n",
    "orders = np.array([\n",
    "    [2, 0, 0, 0],\n",
    "    [1, 0, 2, 4],\n",
    "    [1, 2, 1, 0],\n",
    "    [4, 6, 0, 2]\n",
    "])\n",
    "totals = np.array([20000, 32000, 20000, 61000])\n",
    "\n",
    "#mendapatkan harga per items\n",
    "prices = np.linalg.solve(orders, totals) #menghitung nilai aljabar lineal\n",
    "prices"
   ]
  },
  {
   "cell_type": "code",
   "execution_count": 73,
   "id": "287a9244",
   "metadata": {},
   "outputs": [
    {
     "data": {
      "text/plain": [
       "array([20000., 32000., 20000., 61000.])"
      ]
     },
     "execution_count": 73,
     "metadata": {},
     "output_type": "execute_result"
    }
   ],
   "source": [
    "#mendapatkan total harga\n",
    "orders @ prices"
   ]
  },
  {
   "cell_type": "markdown",
   "id": "d933dfe8",
   "metadata": {},
   "source": [
    "### Fungsi universal\n",
    "operasi matematika pada matriks"
   ]
  },
  {
   "cell_type": "code",
   "execution_count": 74,
   "id": "b9afb865",
   "metadata": {},
   "outputs": [
    {
     "data": {
      "text/plain": [
       "(array([1, 2, 3, 4, 5]), array([ 6,  7,  8,  9, 10]))"
      ]
     },
     "execution_count": 74,
     "metadata": {},
     "output_type": "execute_result"
    }
   ],
   "source": [
    "a, b = np.split(np.arange(1, 11), 2)\n",
    "a, b"
   ]
  },
  {
   "cell_type": "code",
   "execution_count": 75,
   "id": "dd28a837",
   "metadata": {},
   "outputs": [
    {
     "data": {
      "text/plain": [
       "array([ 7,  9, 11, 13, 15])"
      ]
     },
     "execution_count": 75,
     "metadata": {},
     "output_type": "execute_result"
    }
   ],
   "source": [
    "a + b"
   ]
  },
  {
   "cell_type": "code",
   "execution_count": 76,
   "id": "3b612fc9",
   "metadata": {},
   "outputs": [
    {
     "data": {
      "text/plain": [
       "array([ 6, 14, 24, 36, 50])"
      ]
     },
     "execution_count": 76,
     "metadata": {},
     "output_type": "execute_result"
    }
   ],
   "source": [
    "a * b"
   ]
  },
  {
   "cell_type": "code",
   "execution_count": 77,
   "id": "aecb2010",
   "metadata": {},
   "outputs": [
    {
     "data": {
      "text/plain": [
       "array([-5, -5, -5, -5, -5])"
      ]
     },
     "execution_count": 77,
     "metadata": {},
     "output_type": "execute_result"
    }
   ],
   "source": [
    "a - b"
   ]
  },
  {
   "cell_type": "code",
   "execution_count": 79,
   "id": "afcf5588",
   "metadata": {},
   "outputs": [
    {
     "data": {
      "text/plain": [
       "array([5, 5, 5, 5, 5])"
      ]
     },
     "execution_count": 79,
     "metadata": {},
     "output_type": "execute_result"
    }
   ],
   "source": [
    "b - a"
   ]
  },
  {
   "cell_type": "code",
   "execution_count": 81,
   "id": "461dbb3b",
   "metadata": {},
   "outputs": [
    {
     "data": {
      "text/plain": [
       "array([4, 5, 6, 7, 8])"
      ]
     },
     "execution_count": 81,
     "metadata": {},
     "output_type": "execute_result"
    }
   ],
   "source": [
    "#menambahkan nilai array dengan 3\n",
    "a + 3"
   ]
  },
  {
   "cell_type": "code",
   "execution_count": 82,
   "id": "8a96239e",
   "metadata": {},
   "outputs": [
    {
     "data": {
      "text/plain": [
       "array([4, 5, 6, 7, 8])"
      ]
     },
     "execution_count": 82,
     "metadata": {},
     "output_type": "execute_result"
    }
   ],
   "source": [
    "a + np.repeat(3, 5)"
   ]
  },
  {
   "cell_type": "markdown",
   "id": "81bbcb6b",
   "metadata": {},
   "source": [
    "Operasi-operasi di atas di dalam numpy disebut dengan universal function"
   ]
  },
  {
   "cell_type": "code",
   "execution_count": 83,
   "id": "24f175ce",
   "metadata": {},
   "outputs": [
    {
     "data": {
      "text/plain": [
       "(array([[0., 1., 2.],\n",
       "        [3., 4., 5.],\n",
       "        [6., 7., 8.]]),\n",
       " array([0., 1., 2.]))"
      ]
     },
     "execution_count": 83,
     "metadata": {},
     "output_type": "execute_result"
    }
   ],
   "source": [
    "#example\n",
    "x1 = np.arange(9.0).reshape((3, 3))\n",
    "x2 = np.arange(3.0)\n",
    "x1, x2"
   ]
  },
  {
   "cell_type": "code",
   "execution_count": 84,
   "id": "fa79beb4",
   "metadata": {},
   "outputs": [
    {
     "data": {
      "text/plain": [
       "array([[ 0.,  2.,  4.],\n",
       "       [ 3.,  5.,  7.],\n",
       "       [ 6.,  8., 10.]])"
      ]
     },
     "execution_count": 84,
     "metadata": {},
     "output_type": "execute_result"
    }
   ],
   "source": [
    "#menambahkan array 1 dan 2\n",
    "np.add(x1, x2)"
   ]
  },
  {
   "cell_type": "code",
   "execution_count": 85,
   "id": "b6cc39ad",
   "metadata": {},
   "outputs": [
    {
     "data": {
      "text/plain": [
       "array([[ 2.,  3.,  4.],\n",
       "       [ 5.,  6.,  7.],\n",
       "       [ 8.,  9., 10.]])"
      ]
     },
     "execution_count": 85,
     "metadata": {},
     "output_type": "execute_result"
    }
   ],
   "source": [
    "#menambahkan dengan skalar\n",
    "np.add(x1 , 2)"
   ]
  },
  {
   "cell_type": "markdown",
   "id": "803d1b40",
   "metadata": {},
   "source": [
    "### Operasi matriks lainnya"
   ]
  },
  {
   "cell_type": "code",
   "execution_count": 87,
   "id": "785b3e8b",
   "metadata": {},
   "outputs": [
    {
     "data": {
      "text/plain": [
       "array([44, 50, 31, 56, 31, 50, 49, 51, 44, 31, 59, 50, 47, 43, 38, 52, 31,\n",
       "       57, 37, 58], dtype=uint16)"
      ]
     },
     "execution_count": 87,
     "metadata": {},
     "output_type": "execute_result"
    }
   ],
   "source": [
    "study_less = study_minutes[(study_minutes < 60) & (study_minutes > 0)]\n",
    "study_less"
   ]
  },
  {
   "cell_type": "code",
   "execution_count": 88,
   "id": "65e1ff2c",
   "metadata": {},
   "outputs": [
    {
     "name": "stdout",
     "output_type": "stream",
     "text": [
      "[44 50 31 56 31 50 49 51 44 31 59 50 47 43 38 52 31 57 37 58]\n"
     ]
    },
    {
     "data": {
      "text/plain": [
       "909"
      ]
     },
     "execution_count": 88,
     "metadata": {},
     "output_type": "execute_result"
    }
   ],
   "source": [
    "study_less = study_minutes[(study_minutes < 60) & (study_minutes > 0)]\n",
    "print(study_less)\n",
    "#summarize dari total belajar \n",
    "np.add.reduce(study_less)"
   ]
  },
  {
   "cell_type": "code",
   "execution_count": 91,
   "id": "7f59f5d3",
   "metadata": {},
   "outputs": [
    {
     "data": {
      "text/plain": [
       "909"
      ]
     },
     "execution_count": 91,
     "metadata": {},
     "output_type": "execute_result"
    }
   ],
   "source": [
    "#total dari study_less\n",
    "np.sum(study_less)"
   ]
  },
  {
   "cell_type": "code",
   "execution_count": 92,
   "id": "487ed79f",
   "metadata": {},
   "outputs": [
    {
     "data": {
      "text/plain": [
       "10199"
      ]
     },
     "execution_count": 92,
     "metadata": {},
     "output_type": "execute_result"
    }
   ],
   "source": [
    "#total dari study_minutes\n",
    "np.sum(study_minutes)"
   ]
  },
  {
   "cell_type": "code",
   "execution_count": null,
   "id": "0811fe8c",
   "metadata": {},
   "outputs": [],
   "source": []
  },
  {
   "cell_type": "markdown",
   "id": "35ddf867",
   "metadata": {},
   "source": [
    "## Epilogue"
   ]
  },
  {
   "cell_type": "markdown",
   "id": "7c078c8d",
   "metadata": {},
   "source": [
    "### Visualisasi data dengan matplotlib\n",
    "pustaka matplotlib bisa membaca pustaka numpy array dan dapat mempresentasikannya dalam bentuk grafik"
   ]
  },
  {
   "cell_type": "code",
   "execution_count": 93,
   "id": "97949fb1",
   "metadata": {},
   "outputs": [],
   "source": [
    "import matplotlib.pyplot as plt"
   ]
  },
  {
   "cell_type": "code",
   "execution_count": 94,
   "id": "6c30a290",
   "metadata": {},
   "outputs": [
    {
     "data": {
      "text/plain": [
       "array([  0,   0,   0,   0,   0,   0,   0,   0,   0,   0,   0,   0,   0,\n",
       "         0,   0,   0,   0,   0,   0,   0,   0,   0,   0,   0,   0,   0,\n",
       "         0,   0,   0,   0,   0,   0,   0,   0,   0,   0,   0,   0,   0,\n",
       "         0,   0,   0,   0,   0,   0,   0,   0,   0,   0,   0,   0,   0,\n",
       "         0,   0,   0,   0,   0,   0,   0,   0,   0,   0,   0,   0,   0,\n",
       "         0,   0,   0,   0,   0,   0,   0,   0,   0,   0,   0,   0,   0,\n",
       "         0,   0,   0,   0,   0,   0,   0,   0,   0,   0,   0,   0,   0,\n",
       "         0,   0,   0,   0,   0,   0,   0,   0,   0, 132, 122, 128,  44,\n",
       "       136, 129, 101,  95,  50, 132, 151,  64, 104, 175, 117, 146, 139,\n",
       "       129, 133, 176,  98, 160, 179,  99,  82, 142,  31, 106, 117,  56,\n",
       "        98,  67, 121, 159,  81, 170,  31,  50,  49,  87, 179,  51, 116,\n",
       "       177, 118,  78, 171, 117,  88, 123, 102,  44,  79,  31, 108,  80,\n",
       "        59, 137,  84,  93, 155, 160,  67,  80, 166, 164,  70,  50, 102,\n",
       "       113,  47, 131, 161, 118,  82,  89,  81,  43,  81,  38, 119,  52,\n",
       "        82,  31, 159,  57, 113,  71, 121, 140,  91,  70,  37, 106,  64,\n",
       "       127, 110,  58,  93,  79], dtype=uint16)"
      ]
     },
     "execution_count": 94,
     "metadata": {},
     "output_type": "execute_result"
    }
   ],
   "source": [
    "#menampilkan data historis selama belajar yang nilainya > 0\n",
    "study_minutes"
   ]
  },
  {
   "cell_type": "code",
   "execution_count": 95,
   "id": "671c3169",
   "metadata": {},
   "outputs": [
    {
     "data": {
      "text/plain": [
       "array([132, 122, 128,  44, 136, 129, 101,  95,  50, 132, 151,  64, 104,\n",
       "       175, 117, 146, 139, 129, 133, 176,  98, 160, 179,  99,  82, 142,\n",
       "        31, 106, 117,  56,  98,  67, 121, 159,  81, 170,  31,  50,  49,\n",
       "        87, 179,  51, 116, 177, 118,  78, 171, 117,  88, 123, 102,  44,\n",
       "        79,  31, 108,  80,  59, 137,  84,  93, 155, 160,  67,  80, 166,\n",
       "       164,  70,  50, 102, 113,  47, 131, 161, 118,  82,  89,  81,  43,\n",
       "        81,  38, 119,  52,  82,  31, 159,  57, 113,  71, 121, 140,  91,\n",
       "        70,  37, 106,  64, 127, 110,  58,  93,  79], dtype=uint16)"
      ]
     },
     "execution_count": 95,
     "metadata": {},
     "output_type": "execute_result"
    }
   ],
   "source": [
    "study_minutes[study_minutes > 0]"
   ]
  },
  {
   "cell_type": "code",
   "execution_count": 97,
   "id": "4402248d",
   "metadata": {},
   "outputs": [
    {
     "data": {
      "text/plain": [
       "[]"
      ]
     },
     "execution_count": 97,
     "metadata": {},
     "output_type": "execute_result"
    },
    {
     "data": {
      "image/png": "[encoded data removed]",
      "text/plain": [
       "<Figure size 640x480 with 1 Axes>"
      ]
     },
     "metadata": {},
     "output_type": "display_data"
    }
   ],
   "source": [
    "#menampilkan visualisasinya\n",
    "plt.hist(study_minutes[study_minutes > 0])\n",
    "plt.plot()"
   ]
  }
 ],
 "metadata": {
  "kernelspec": {
   "display_name": "Python 3 (ipykernel)",
   "language": "python",
   "name": "python3"
  },
  "language_info": {
   "codemirror_mode": {
    "name": "ipython",
    "version": 3
   },
   "file_extension": ".py",
   "mimetype": "text/x-python",
   "name": "python",
   "nbconvert_exporter": "python",
   "pygments_lexer": "ipython3",
   "version": "3.11.4"
  }
 },
 "nbformat": 4,
 "nbformat_minor": 5
}
